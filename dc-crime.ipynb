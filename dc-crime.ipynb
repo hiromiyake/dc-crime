{
 "cells": [
  {
   "cell_type": "markdown",
   "metadata": {},
   "source": [
    "# DC Crime\n",
    "\n",
    "### 06/24/2019\n",
    "\n",
    "### Hiro Miyake"
   ]
  },
  {
   "cell_type": "markdown",
   "metadata": {},
   "source": [
    "Washington, D.C. has an initiative to provide data to the public. This is at the link below.\n",
    "\n",
    "http://opendata.dc.gov/\n",
    "\n",
    "Furthermore, crime data is provided at a related website run by the Metropolitan Police Department.\n",
    "\n",
    "https://dcatlas.dcgis.dc.gov/crimecards/\n",
    "\n",
    "In this Python notebook, I explore the factors that are related to the type of crime occuring in DC. This could be used for predictive policing, or in other words, allow the Metropolitan Police Department to better allocate resources in anticipation of certain types of crimes occuring."
   ]
  },
  {
   "cell_type": "code",
   "execution_count": 1,
   "metadata": {
    "collapsed": true
   },
   "outputs": [],
   "source": [
    "%matplotlib inline\n",
    "\n",
    "from datetime import datetime\n",
    "import numpy as np\n",
    "import pandas as pd\n",
    "import matplotlib.pyplot as plt\n",
    "\n",
    "import statsmodels.formula.api as smf\n",
    "from sklearn.metrics import roc_auc_score"
   ]
  },
  {
   "cell_type": "markdown",
   "metadata": {},
   "source": [
    "# Load the data"
   ]
  },
  {
   "cell_type": "markdown",
   "metadata": {},
   "source": [
    "Crime data for the past 8 years (2011-2019) can be obtained at the website above, and whose link is given by\n",
    "\n",
    "https://datagate.dc.gov/search/open/crimes?daterange=8years&details=true&format=csv"
   ]
  },
  {
   "cell_type": "code",
   "execution_count": 2,
   "metadata": {
    "collapsed": true
   },
   "outputs": [],
   "source": [
    "df = pd.read_csv('dc-crimes-search-results.csv')"
   ]
  },
  {
   "cell_type": "code",
   "execution_count": 3,
   "metadata": {
    "collapsed": false
   },
   "outputs": [
    {
     "data": {
      "text/html": [
       "<div>\n",
       "<style scoped>\n",
       "    .dataframe tbody tr th:only-of-type {\n",
       "        vertical-align: middle;\n",
       "    }\n",
       "\n",
       "    .dataframe tbody tr th {\n",
       "        vertical-align: top;\n",
       "    }\n",
       "\n",
       "    .dataframe thead th {\n",
       "        text-align: right;\n",
       "    }\n",
       "</style>\n",
       "<table border=\"1\" class=\"dataframe\">\n",
       "  <thead>\n",
       "    <tr style=\"text-align: right;\">\n",
       "      <th></th>\n",
       "      <th>NEIGHBORHOOD_CLUSTER</th>\n",
       "      <th>CENSUS_TRACT</th>\n",
       "      <th>offensegroup</th>\n",
       "      <th>LONGITUDE</th>\n",
       "      <th>END_DATE</th>\n",
       "      <th>offense-text</th>\n",
       "      <th>SHIFT</th>\n",
       "      <th>YBLOCK</th>\n",
       "      <th>DISTRICT</th>\n",
       "      <th>WARD</th>\n",
       "      <th>...</th>\n",
       "      <th>BLOCK</th>\n",
       "      <th>START_DATE</th>\n",
       "      <th>CCN</th>\n",
       "      <th>OFFENSE</th>\n",
       "      <th>OCTO_RECORD_ID</th>\n",
       "      <th>ANC</th>\n",
       "      <th>REPORT_DAT</th>\n",
       "      <th>METHOD</th>\n",
       "      <th>location</th>\n",
       "      <th>LATITUDE</th>\n",
       "    </tr>\n",
       "  </thead>\n",
       "  <tbody>\n",
       "    <tr>\n",
       "      <th>0</th>\n",
       "      <td>cluster 20</td>\n",
       "      <td>9509.0</td>\n",
       "      <td>property</td>\n",
       "      <td>-76.993805</td>\n",
       "      <td>2014-08-20T12:30:00.000</td>\n",
       "      <td>burglary</td>\n",
       "      <td>day</td>\n",
       "      <td>142154.0</td>\n",
       "      <td>4.0</td>\n",
       "      <td>5.0</td>\n",
       "      <td>...</td>\n",
       "      <td>800 - 899 block of crittenden street ne</td>\n",
       "      <td>2014-08-20T12:00:00.000</td>\n",
       "      <td>14125714</td>\n",
       "      <td>burglary</td>\n",
       "      <td>14125714-01</td>\n",
       "      <td>5A</td>\n",
       "      <td>2014-08-20T16:46:00.000Z</td>\n",
       "      <td>others</td>\n",
       "      <td>38.947289585934314,-76.993807538940317</td>\n",
       "      <td>38.947282</td>\n",
       "    </tr>\n",
       "    <tr>\n",
       "      <th>1</th>\n",
       "      <td>cluster 17</td>\n",
       "      <td>1901.0</td>\n",
       "      <td>property</td>\n",
       "      <td>-77.021173</td>\n",
       "      <td>2014-08-20T13:31:00.000</td>\n",
       "      <td>burglary</td>\n",
       "      <td>day</td>\n",
       "      <td>143865.0</td>\n",
       "      <td>4.0</td>\n",
       "      <td>4.0</td>\n",
       "      <td>...</td>\n",
       "      <td>500  - 699 block of peabody street nw</td>\n",
       "      <td>2014-08-20T13:25:00.000</td>\n",
       "      <td>14125736</td>\n",
       "      <td>burglary</td>\n",
       "      <td>14125736-01</td>\n",
       "      <td>4B</td>\n",
       "      <td>2014-08-20T18:02:00.000Z</td>\n",
       "      <td>others</td>\n",
       "      <td>38.962700977587048,-77.021175136089184</td>\n",
       "      <td>38.962693</td>\n",
       "    </tr>\n",
       "    <tr>\n",
       "      <th>2</th>\n",
       "      <td>cluster 3</td>\n",
       "      <td>3400.0</td>\n",
       "      <td>property</td>\n",
       "      <td>-77.015705</td>\n",
       "      <td>2014-08-20T16:00:00.000</td>\n",
       "      <td>theft/other</td>\n",
       "      <td>evening</td>\n",
       "      <td>138583.0</td>\n",
       "      <td>3.0</td>\n",
       "      <td>1.0</td>\n",
       "      <td>...</td>\n",
       "      <td>1810 1899  block of 3rd street nw</td>\n",
       "      <td>2014-08-20T15:49:00.000</td>\n",
       "      <td>14125790</td>\n",
       "      <td>theft/other</td>\n",
       "      <td>14125790-01</td>\n",
       "      <td>1B</td>\n",
       "      <td>2014-08-20T23:20:00.000Z</td>\n",
       "      <td>others</td>\n",
       "      <td>38.915120024258918,-77.015707015122302</td>\n",
       "      <td>38.915112</td>\n",
       "    </tr>\n",
       "    <tr>\n",
       "      <th>3</th>\n",
       "      <td>cluster 1</td>\n",
       "      <td>3800.0</td>\n",
       "      <td>property</td>\n",
       "      <td>-77.037860</td>\n",
       "      <td>2014-08-23T15:15:00.000</td>\n",
       "      <td>theft f/auto</td>\n",
       "      <td>evening</td>\n",
       "      <td>139649.0</td>\n",
       "      <td>3.0</td>\n",
       "      <td>1.0</td>\n",
       "      <td>...</td>\n",
       "      <td>mozart place nw and fuller street nw</td>\n",
       "      <td>2014-08-23T13:45:00.000</td>\n",
       "      <td>14127645</td>\n",
       "      <td>theft f/auto</td>\n",
       "      <td>14127645-01</td>\n",
       "      <td>1C</td>\n",
       "      <td>2014-08-23T19:18:00.000Z</td>\n",
       "      <td>others</td>\n",
       "      <td>38.924717823327491,-77.037862469649198</td>\n",
       "      <td>38.924710</td>\n",
       "    </tr>\n",
       "    <tr>\n",
       "      <th>4</th>\n",
       "      <td>cluster 8</td>\n",
       "      <td>5800.0</td>\n",
       "      <td>violent</td>\n",
       "      <td>-77.020924</td>\n",
       "      <td>2014-08-23T15:06:00.000</td>\n",
       "      <td>robbery</td>\n",
       "      <td>evening</td>\n",
       "      <td>136884.0</td>\n",
       "      <td>1.0</td>\n",
       "      <td>2.0</td>\n",
       "      <td>...</td>\n",
       "      <td>600 - 699 block of h street nw</td>\n",
       "      <td>2014-08-23T15:00:00.000</td>\n",
       "      <td>14127654</td>\n",
       "      <td>robbery</td>\n",
       "      <td>14127654-01</td>\n",
       "      <td>2C</td>\n",
       "      <td>2014-08-23T19:14:00.000Z</td>\n",
       "      <td>gun</td>\n",
       "      <td>38.899814022192331,-77.020925903391088</td>\n",
       "      <td>38.899806</td>\n",
       "    </tr>\n",
       "  </tbody>\n",
       "</table>\n",
       "<p>5 rows × 29 columns</p>\n",
       "</div>"
      ],
      "text/plain": [
       "  NEIGHBORHOOD_CLUSTER  CENSUS_TRACT offensegroup  LONGITUDE  \\\n",
       "0           cluster 20        9509.0     property -76.993805   \n",
       "1           cluster 17        1901.0     property -77.021173   \n",
       "2            cluster 3        3400.0     property -77.015705   \n",
       "3            cluster 1        3800.0     property -77.037860   \n",
       "4            cluster 8        5800.0      violent -77.020924   \n",
       "\n",
       "                  END_DATE  offense-text    SHIFT    YBLOCK  DISTRICT  WARD  \\\n",
       "0  2014-08-20T12:30:00.000      burglary      day  142154.0       4.0   5.0   \n",
       "1  2014-08-20T13:31:00.000      burglary      day  143865.0       4.0   4.0   \n",
       "2  2014-08-20T16:00:00.000   theft/other  evening  138583.0       3.0   1.0   \n",
       "3  2014-08-23T15:15:00.000  theft f/auto  evening  139649.0       3.0   1.0   \n",
       "4  2014-08-23T15:06:00.000       robbery  evening  136884.0       1.0   2.0   \n",
       "\n",
       "     ...                                        BLOCK  \\\n",
       "0    ...      800 - 899 block of crittenden street ne   \n",
       "1    ...        500  - 699 block of peabody street nw   \n",
       "2    ...            1810 1899  block of 3rd street nw   \n",
       "3    ...         mozart place nw and fuller street nw   \n",
       "4    ...               600 - 699 block of h street nw   \n",
       "\n",
       "                START_DATE       CCN       OFFENSE  OCTO_RECORD_ID  ANC  \\\n",
       "0  2014-08-20T12:00:00.000  14125714      burglary     14125714-01   5A   \n",
       "1  2014-08-20T13:25:00.000  14125736      burglary     14125736-01   4B   \n",
       "2  2014-08-20T15:49:00.000  14125790   theft/other     14125790-01   1B   \n",
       "3  2014-08-23T13:45:00.000  14127645  theft f/auto     14127645-01   1C   \n",
       "4  2014-08-23T15:00:00.000  14127654       robbery     14127654-01   2C   \n",
       "\n",
       "                 REPORT_DAT  METHOD                                location  \\\n",
       "0  2014-08-20T16:46:00.000Z  others  38.947289585934314,-76.993807538940317   \n",
       "1  2014-08-20T18:02:00.000Z  others  38.962700977587048,-77.021175136089184   \n",
       "2  2014-08-20T23:20:00.000Z  others  38.915120024258918,-77.015707015122302   \n",
       "3  2014-08-23T19:18:00.000Z  others  38.924717823327491,-77.037862469649198   \n",
       "4  2014-08-23T19:14:00.000Z     gun  38.899814022192331,-77.020925903391088   \n",
       "\n",
       "    LATITUDE  \n",
       "0  38.947282  \n",
       "1  38.962693  \n",
       "2  38.915112  \n",
       "3  38.924710  \n",
       "4  38.899806  \n",
       "\n",
       "[5 rows x 29 columns]"
      ]
     },
     "execution_count": 3,
     "metadata": {},
     "output_type": "execute_result"
    }
   ],
   "source": [
    "df.head()"
   ]
  },
  {
   "cell_type": "code",
   "execution_count": 4,
   "metadata": {
    "collapsed": false
   },
   "outputs": [
    {
     "name": "stdout",
     "output_type": "stream",
     "text": [
      "<class 'pandas.core.frame.DataFrame'>\n",
      "RangeIndex: 284626 entries, 0 to 284625\n",
      "Data columns (total 29 columns):\n",
      "NEIGHBORHOOD_CLUSTER    281119 non-null object\n",
      "CENSUS_TRACT            283823 non-null float64\n",
      "offensegroup            284626 non-null object\n",
      "LONGITUDE               284626 non-null float64\n",
      "END_DATE                271066 non-null object\n",
      "offense-text            284626 non-null object\n",
      "SHIFT                   284626 non-null object\n",
      "YBLOCK                  284626 non-null float64\n",
      "DISTRICT                284480 non-null float64\n",
      "WARD                    284617 non-null float64\n",
      "YEAR                    284626 non-null int64\n",
      "offensekey              284626 non-null object\n",
      "BID                     47743 non-null object\n",
      "sector                  284475 non-null object\n",
      "PSA                     284475 non-null float64\n",
      "ucr-rank                284626 non-null int64\n",
      "BLOCK_GROUP             283823 non-null object\n",
      "VOTING_PRECINCT         284574 non-null object\n",
      "XBLOCK                  284626 non-null float64\n",
      "BLOCK                   284625 non-null object\n",
      "START_DATE              284621 non-null object\n",
      "CCN                     284626 non-null int64\n",
      "OFFENSE                 284626 non-null object\n",
      "OCTO_RECORD_ID          284626 non-null object\n",
      "ANC                     284626 non-null object\n",
      "REPORT_DAT              284626 non-null object\n",
      "METHOD                  284626 non-null object\n",
      "location                284626 non-null object\n",
      "LATITUDE                284626 non-null float64\n",
      "dtypes: float64(8), int64(3), object(18)\n",
      "memory usage: 63.0+ MB\n"
     ]
    }
   ],
   "source": [
    "df.info()"
   ]
  },
  {
   "cell_type": "code",
   "execution_count": 5,
   "metadata": {
    "collapsed": false
   },
   "outputs": [
    {
     "data": {
      "text/html": [
       "<div>\n",
       "<style scoped>\n",
       "    .dataframe tbody tr th:only-of-type {\n",
       "        vertical-align: middle;\n",
       "    }\n",
       "\n",
       "    .dataframe tbody tr th {\n",
       "        vertical-align: top;\n",
       "    }\n",
       "\n",
       "    .dataframe thead th {\n",
       "        text-align: right;\n",
       "    }\n",
       "</style>\n",
       "<table border=\"1\" class=\"dataframe\">\n",
       "  <thead>\n",
       "    <tr style=\"text-align: right;\">\n",
       "      <th></th>\n",
       "      <th>CENSUS_TRACT</th>\n",
       "      <th>LONGITUDE</th>\n",
       "      <th>YBLOCK</th>\n",
       "      <th>DISTRICT</th>\n",
       "      <th>WARD</th>\n",
       "      <th>YEAR</th>\n",
       "      <th>PSA</th>\n",
       "      <th>ucr-rank</th>\n",
       "      <th>XBLOCK</th>\n",
       "      <th>CCN</th>\n",
       "      <th>LATITUDE</th>\n",
       "    </tr>\n",
       "  </thead>\n",
       "  <tbody>\n",
       "    <tr>\n",
       "      <th>count</th>\n",
       "      <td>283823.000000</td>\n",
       "      <td>284626.000000</td>\n",
       "      <td>284626.000000</td>\n",
       "      <td>284480.000000</td>\n",
       "      <td>284617.000000</td>\n",
       "      <td>284626.000000</td>\n",
       "      <td>284475.000000</td>\n",
       "      <td>284626.000000</td>\n",
       "      <td>284626.000000</td>\n",
       "      <td>2.846260e+05</td>\n",
       "      <td>284626.000000</td>\n",
       "    </tr>\n",
       "    <tr>\n",
       "      <th>mean</th>\n",
       "      <td>6219.703463</td>\n",
       "      <td>-77.008011</td>\n",
       "      <td>137641.393942</td>\n",
       "      <td>3.710415</td>\n",
       "      <td>4.425129</td>\n",
       "      <td>2014.887357</td>\n",
       "      <td>375.896160</td>\n",
       "      <td>5.977690</td>\n",
       "      <td>399305.774122</td>\n",
       "      <td>1.500524e+07</td>\n",
       "      <td>38.906625</td>\n",
       "    </tr>\n",
       "    <tr>\n",
       "      <th>std</th>\n",
       "      <td>3130.349468</td>\n",
       "      <td>0.036143</td>\n",
       "      <td>3416.839326</td>\n",
       "      <td>1.911850</td>\n",
       "      <td>2.351994</td>\n",
       "      <td>2.303112</td>\n",
       "      <td>190.899819</td>\n",
       "      <td>1.346734</td>\n",
       "      <td>3134.713335</td>\n",
       "      <td>2.323343e+06</td>\n",
       "      <td>0.030779</td>\n",
       "    </tr>\n",
       "    <tr>\n",
       "      <th>min</th>\n",
       "      <td>100.000000</td>\n",
       "      <td>-77.114142</td>\n",
       "      <td>127300.000000</td>\n",
       "      <td>1.000000</td>\n",
       "      <td>1.000000</td>\n",
       "      <td>2011.000000</td>\n",
       "      <td>101.000000</td>\n",
       "      <td>1.000000</td>\n",
       "      <td>390103.000000</td>\n",
       "      <td>1.020310e+06</td>\n",
       "      <td>38.813471</td>\n",
       "    </tr>\n",
       "    <tr>\n",
       "      <th>25%</th>\n",
       "      <td>3500.000000</td>\n",
       "      <td>-77.031958</td>\n",
       "      <td>136018.000000</td>\n",
       "      <td>2.000000</td>\n",
       "      <td>2.000000</td>\n",
       "      <td>2013.000000</td>\n",
       "      <td>207.000000</td>\n",
       "      <td>6.000000</td>\n",
       "      <td>397228.000000</td>\n",
       "      <td>1.309407e+07</td>\n",
       "      <td>38.892007</td>\n",
       "    </tr>\n",
       "    <tr>\n",
       "      <th>50%</th>\n",
       "      <td>7000.000000</td>\n",
       "      <td>-77.012930</td>\n",
       "      <td>137621.000000</td>\n",
       "      <td>3.000000</td>\n",
       "      <td>5.000000</td>\n",
       "      <td>2015.000000</td>\n",
       "      <td>308.000000</td>\n",
       "      <td>6.000000</td>\n",
       "      <td>398878.000000</td>\n",
       "      <td>1.508299e+07</td>\n",
       "      <td>38.906444</td>\n",
       "    </tr>\n",
       "    <tr>\n",
       "      <th>75%</th>\n",
       "      <td>8904.000000</td>\n",
       "      <td>-76.985513</td>\n",
       "      <td>139683.000000</td>\n",
       "      <td>5.000000</td>\n",
       "      <td>6.000000</td>\n",
       "      <td>2017.000000</td>\n",
       "      <td>507.000000</td>\n",
       "      <td>7.000000</td>\n",
       "      <td>401257.000000</td>\n",
       "      <td>1.707044e+07</td>\n",
       "      <td>38.925020</td>\n",
       "    </tr>\n",
       "    <tr>\n",
       "      <th>max</th>\n",
       "      <td>11100.000000</td>\n",
       "      <td>-76.910021</td>\n",
       "      <td>147441.000000</td>\n",
       "      <td>7.000000</td>\n",
       "      <td>8.000000</td>\n",
       "      <td>2019.000000</td>\n",
       "      <td>708.000000</td>\n",
       "      <td>9.000000</td>\n",
       "      <td>407806.000000</td>\n",
       "      <td>9.925858e+07</td>\n",
       "      <td>38.994901</td>\n",
       "    </tr>\n",
       "  </tbody>\n",
       "</table>\n",
       "</div>"
      ],
      "text/plain": [
       "        CENSUS_TRACT      LONGITUDE         YBLOCK       DISTRICT  \\\n",
       "count  283823.000000  284626.000000  284626.000000  284480.000000   \n",
       "mean     6219.703463     -77.008011  137641.393942       3.710415   \n",
       "std      3130.349468       0.036143    3416.839326       1.911850   \n",
       "min       100.000000     -77.114142  127300.000000       1.000000   \n",
       "25%      3500.000000     -77.031958  136018.000000       2.000000   \n",
       "50%      7000.000000     -77.012930  137621.000000       3.000000   \n",
       "75%      8904.000000     -76.985513  139683.000000       5.000000   \n",
       "max     11100.000000     -76.910021  147441.000000       7.000000   \n",
       "\n",
       "                WARD           YEAR            PSA       ucr-rank  \\\n",
       "count  284617.000000  284626.000000  284475.000000  284626.000000   \n",
       "mean        4.425129    2014.887357     375.896160       5.977690   \n",
       "std         2.351994       2.303112     190.899819       1.346734   \n",
       "min         1.000000    2011.000000     101.000000       1.000000   \n",
       "25%         2.000000    2013.000000     207.000000       6.000000   \n",
       "50%         5.000000    2015.000000     308.000000       6.000000   \n",
       "75%         6.000000    2017.000000     507.000000       7.000000   \n",
       "max         8.000000    2019.000000     708.000000       9.000000   \n",
       "\n",
       "              XBLOCK           CCN       LATITUDE  \n",
       "count  284626.000000  2.846260e+05  284626.000000  \n",
       "mean   399305.774122  1.500524e+07      38.906625  \n",
       "std      3134.713335  2.323343e+06       0.030779  \n",
       "min    390103.000000  1.020310e+06      38.813471  \n",
       "25%    397228.000000  1.309407e+07      38.892007  \n",
       "50%    398878.000000  1.508299e+07      38.906444  \n",
       "75%    401257.000000  1.707044e+07      38.925020  \n",
       "max    407806.000000  9.925858e+07      38.994901  "
      ]
     },
     "execution_count": 5,
     "metadata": {},
     "output_type": "execute_result"
    }
   ],
   "source": [
    "df.describe()"
   ]
  },
  {
   "cell_type": "code",
   "execution_count": 6,
   "metadata": {
    "collapsed": false
   },
   "outputs": [
    {
     "data": {
      "text/plain": [
       "(284626, 29)"
      ]
     },
     "execution_count": 6,
     "metadata": {},
     "output_type": "execute_result"
    }
   ],
   "source": [
    "df.shape"
   ]
  },
  {
   "cell_type": "markdown",
   "metadata": {},
   "source": [
    "# Initial exploratory data analysis"
   ]
  },
  {
   "cell_type": "markdown",
   "metadata": {},
   "source": [
    "## Output variable"
   ]
  },
  {
   "cell_type": "code",
   "execution_count": 7,
   "metadata": {
    "collapsed": false
   },
   "outputs": [
    {
     "data": {
      "text/plain": [
       "theft/other                   109217\n",
       "theft f/auto                   86910\n",
       "robbery                        25252\n",
       "motor vehicle theft            21891\n",
       "burglary                       20452\n",
       "assault w/dangerous weapon     17416\n",
       "sex abuse                       2330\n",
       "homicide                         999\n",
       "arson                            159\n",
       "Name: OFFENSE, dtype: int64"
      ]
     },
     "execution_count": 7,
     "metadata": {},
     "output_type": "execute_result"
    }
   ],
   "source": [
    "df.OFFENSE.value_counts()"
   ]
  },
  {
   "cell_type": "markdown",
   "metadata": {},
   "source": [
    "There are 9 offense types."
   ]
  },
  {
   "cell_type": "code",
   "execution_count": 8,
   "metadata": {
    "collapsed": false
   },
   "outputs": [
    {
     "data": {
      "text/plain": [
       "theft/other                   109217\n",
       "theft f/auto                   86910\n",
       "robbery                        25252\n",
       "motor vehicle theft            21891\n",
       "burglary                       20452\n",
       "assault w/dangerous weapon     17416\n",
       "sex abuse                       2330\n",
       "homicide                         999\n",
       "arson                            159\n",
       "Name: offense-text, dtype: int64"
      ]
     },
     "execution_count": 8,
     "metadata": {},
     "output_type": "execute_result"
    }
   ],
   "source": [
    "df['offense-text'].value_counts()"
   ]
  },
  {
   "cell_type": "code",
   "execution_count": 9,
   "metadata": {
    "collapsed": false
   },
   "outputs": [
    {
     "data": {
      "text/plain": [
       "True"
      ]
     },
     "execution_count": 9,
     "metadata": {},
     "output_type": "execute_result"
    }
   ],
   "source": [
    "df.OFFENSE.equals(df['offense-text'])"
   ]
  },
  {
   "cell_type": "markdown",
   "metadata": {},
   "source": [
    "`OFFENSE` and `offense-text` contain exactly the same information. We can drop `offense-text`."
   ]
  },
  {
   "cell_type": "markdown",
   "metadata": {},
   "source": [
    "Check how many null values there are."
   ]
  },
  {
   "cell_type": "code",
   "execution_count": 10,
   "metadata": {
    "collapsed": false
   },
   "outputs": [
    {
     "data": {
      "text/plain": [
       "NEIGHBORHOOD_CLUSTER      3507\n",
       "CENSUS_TRACT               803\n",
       "offensegroup                 0\n",
       "LONGITUDE                    0\n",
       "END_DATE                 13560\n",
       "offense-text                 0\n",
       "SHIFT                        0\n",
       "YBLOCK                       0\n",
       "DISTRICT                   146\n",
       "WARD                         9\n",
       "YEAR                         0\n",
       "offensekey                   0\n",
       "BID                     236883\n",
       "sector                     151\n",
       "PSA                        151\n",
       "ucr-rank                     0\n",
       "BLOCK_GROUP                803\n",
       "VOTING_PRECINCT             52\n",
       "XBLOCK                       0\n",
       "BLOCK                        1\n",
       "START_DATE                   5\n",
       "CCN                          0\n",
       "OFFENSE                      0\n",
       "OCTO_RECORD_ID               0\n",
       "ANC                          0\n",
       "REPORT_DAT                   0\n",
       "METHOD                       0\n",
       "location                     0\n",
       "LATITUDE                     0\n",
       "dtype: int64"
      ]
     },
     "execution_count": 10,
     "metadata": {},
     "output_type": "execute_result"
    }
   ],
   "source": [
    "df.isnull().sum()"
   ]
  },
  {
   "cell_type": "markdown",
   "metadata": {},
   "source": [
    "There are a number of columns with null values."
   ]
  },
  {
   "cell_type": "markdown",
   "metadata": {},
   "source": [
    "## Features"
   ]
  },
  {
   "cell_type": "markdown",
   "metadata": {},
   "source": [
    "Let's look at each feature to understand their properties."
   ]
  },
  {
   "cell_type": "code",
   "execution_count": 11,
   "metadata": {
    "collapsed": false
   },
   "outputs": [
    {
     "data": {
      "text/plain": [
       "cluster 2     22951\n",
       "cluster 8     19751\n",
       "cluster 25    16086\n",
       "cluster 6     15170\n",
       "cluster 26    13326\n",
       "cluster 18    12653\n",
       "cluster 3     12530\n",
       "cluster 39    11423\n",
       "cluster 23    10923\n",
       "cluster 21    10389\n",
       "cluster 7     10024\n",
       "cluster 22     9846\n",
       "cluster 4      8335\n",
       "cluster 17     8037\n",
       "cluster 33     7806\n",
       "cluster 31     7666\n",
       "cluster 34     7116\n",
       "cluster 32     7079\n",
       "cluster 1      6924\n",
       "cluster 38     5091\n",
       "cluster 9      4945\n",
       "cluster 11     4869\n",
       "cluster 5      4643\n",
       "cluster 30     3963\n",
       "cluster 24     3954\n",
       "cluster 19     3851\n",
       "cluster 37     3808\n",
       "NaN            3507\n",
       "cluster 20     3422\n",
       "cluster 28     3418\n",
       "cluster 15     3051\n",
       "cluster 35     2923\n",
       "cluster 36     2884\n",
       "cluster 10     2368\n",
       "cluster 14     2223\n",
       "cluster 27     2004\n",
       "cluster 13     1719\n",
       "cluster 12     1616\n",
       "cluster 16     1535\n",
       "cluster 29      797\n",
       "Name: NEIGHBORHOOD_CLUSTER, dtype: int64"
      ]
     },
     "execution_count": 11,
     "metadata": {},
     "output_type": "execute_result"
    }
   ],
   "source": [
    "df['NEIGHBORHOOD_CLUSTER'].value_counts(dropna=False)"
   ]
  },
  {
   "cell_type": "markdown",
   "metadata": {},
   "source": [
    "There are many clusters, some of them NaN."
   ]
  },
  {
   "cell_type": "code",
   "execution_count": 12,
   "metadata": {
    "collapsed": false
   },
   "outputs": [
    {
     "data": {
      "text/plain": [
       "5800.0     9164\n",
       "4400.0     6999\n",
       "10700.0    6329\n",
       "10600.0    5271\n",
       "11100.0    4728\n",
       "202.0      4353\n",
       "3000.0     4215\n",
       "9102.0     4136\n",
       "5500.0     3911\n",
       "10100.0    3634\n",
       "5201.0     3522\n",
       "100.0      3393\n",
       "9603.0     3388\n",
       "8803.0     3230\n",
       "1001.0     3100\n",
       "2502.0     2934\n",
       "3100.0     2893\n",
       "3500.0     2849\n",
       "2802.0     2673\n",
       "7601.0     2629\n",
       "10400.0    2614\n",
       "7000.0     2525\n",
       "4300.0     2414\n",
       "8802.0     2394\n",
       "1804.0     2381\n",
       "7803.0     2322\n",
       "7603.0     2295\n",
       "7200.0     2261\n",
       "10200.0    2202\n",
       "3400.0     2201\n",
       "           ... \n",
       "10500.0     713\n",
       "9906.0      707\n",
       "11000.0     700\n",
       "1302.0      683\n",
       "1803.0      680\n",
       "6802.0      680\n",
       "9302.0      674\n",
       "901.0       667\n",
       "1500.0      663\n",
       "2301.0      640\n",
       "9801.0      636\n",
       "9203.0      631\n",
       "2001.0      619\n",
       "502.0       614\n",
       "2302.0      564\n",
       "1002.0      534\n",
       "9509.0      529\n",
       "1401.0      441\n",
       "1402.0      429\n",
       "400.0       422\n",
       "701.0       413\n",
       "9802.0      363\n",
       "802.0       324\n",
       "6804.0      322\n",
       "201.0       306\n",
       "902.0       298\n",
       "9507.0      279\n",
       "1301.0      252\n",
       "702.0       245\n",
       "7301.0       22\n",
       "Name: CENSUS_TRACT, Length: 180, dtype: int64"
      ]
     },
     "execution_count": 12,
     "metadata": {},
     "output_type": "execute_result"
    }
   ],
   "source": [
    "df['CENSUS_TRACT'].value_counts(dropna=False)"
   ]
  },
  {
   "cell_type": "markdown",
   "metadata": {},
   "source": [
    "These are probably defined by the US Census Bureau, indicating some geographic area. Probably not appropriate to treat the numerical values as is."
   ]
  },
  {
   "cell_type": "code",
   "execution_count": 13,
   "metadata": {
    "collapsed": false
   },
   "outputs": [
    {
     "data": {
      "text/plain": [
       "property    238629\n",
       "violent      45997\n",
       "Name: offensegroup, dtype: int64"
      ]
     },
     "execution_count": 13,
     "metadata": {},
     "output_type": "execute_result"
    }
   ],
   "source": [
    "df.offensegroup.value_counts(dropna=False)"
   ]
  },
  {
   "cell_type": "markdown",
   "metadata": {},
   "source": [
    "There are only two types of offense groups."
   ]
  },
  {
   "cell_type": "code",
   "execution_count": 14,
   "metadata": {
    "collapsed": false
   },
   "outputs": [
    {
     "data": {
      "text/plain": [
       "<matplotlib.axes._subplots.AxesSubplot at 0x10ff8a3d0>"
      ]
     },
     "execution_count": 14,
     "metadata": {},
     "output_type": "execute_result"
    },
    {
     "data": {
      "image/png": "[encoded data removed]",
      "text/plain": [
       "<matplotlib.figure.Figure at 0x12867bd50>"
      ]
     },
     "metadata": {},
     "output_type": "display_data"
    }
   ],
   "source": [
    "df.LONGITUDE.hist()"
   ]
  },
  {
   "cell_type": "markdown",
   "metadata": {},
   "source": [
    "`LONGITUDE` is self-explanatory."
   ]
  },
  {
   "cell_type": "code",
   "execution_count": 15,
   "metadata": {
    "collapsed": false
   },
   "outputs": [
    {
     "data": {
      "text/plain": [
       "'2014-08-20T12:30:00.000'"
      ]
     },
     "execution_count": 15,
     "metadata": {},
     "output_type": "execute_result"
    }
   ],
   "source": [
    "df['END_DATE'][0]"
   ]
  },
  {
   "cell_type": "markdown",
   "metadata": {},
   "source": [
    "`END_DATE` is in string format. But there are a few rows with NaNs. It's not clear what this means, possibly when the case is closed."
   ]
  },
  {
   "cell_type": "code",
   "execution_count": 16,
   "metadata": {
    "collapsed": false
   },
   "outputs": [
    {
     "data": {
      "text/plain": [
       "evening     121470\n",
       "day         108128\n",
       "midnight     55028\n",
       "Name: SHIFT, dtype: int64"
      ]
     },
     "execution_count": 16,
     "metadata": {},
     "output_type": "execute_result"
    }
   ],
   "source": [
    "df.SHIFT.value_counts(dropna=False)"
   ]
  },
  {
   "cell_type": "markdown",
   "metadata": {},
   "source": [
    "There are three shifts. There aren't so many crimes at midnight. Presumably the day is earliest, then evening, then midnight. This should be captured in `START_DATE`."
   ]
  },
  {
   "cell_type": "code",
   "execution_count": 17,
   "metadata": {
    "collapsed": false
   },
   "outputs": [
    {
     "data": {
      "text/plain": [
       "<matplotlib.axes._subplots.AxesSubplot at 0x11c067090>"
      ]
     },
     "execution_count": 17,
     "metadata": {},
     "output_type": "execute_result"
    },
    {
     "data": {
      "image/png": "[encoded data removed]",
      "text/plain": [
       "<matplotlib.figure.Figure at 0x11c020f50>"
      ]
     },
     "metadata": {},
     "output_type": "display_data"
    }
   ],
   "source": [
    "df['YBLOCK'].hist()"
   ]
  },
  {
   "cell_type": "markdown",
   "metadata": {},
   "source": [
    "It's not clear exactly what this number is, but probably related to the location of the crime."
   ]
  },
  {
   "cell_type": "code",
   "execution_count": 18,
   "metadata": {
    "collapsed": false
   },
   "outputs": [
    {
     "data": {
      "text/plain": [
       " 3.0    52453\n",
       " 2.0    50264\n",
       " 1.0    41702\n",
       " 5.0    38362\n",
       " 6.0    37773\n",
       " 4.0    36660\n",
       " 7.0    27266\n",
       "NaN       146\n",
       "Name: DISTRICT, dtype: int64"
      ]
     },
     "execution_count": 18,
     "metadata": {},
     "output_type": "execute_result"
    }
   ],
   "source": [
    "df['DISTRICT'].value_counts(dropna=False)"
   ]
  },
  {
   "cell_type": "markdown",
   "metadata": {},
   "source": [
    "There are 7 districts."
   ]
  },
  {
   "cell_type": "code",
   "execution_count": 19,
   "metadata": {
    "collapsed": false
   },
   "outputs": [
    {
     "data": {
      "text/plain": [
       " 2.0    51916\n",
       " 6.0    46083\n",
       " 1.0    40612\n",
       " 5.0    39327\n",
       " 7.0    35237\n",
       " 8.0    31070\n",
       " 4.0    25555\n",
       " 3.0    14817\n",
       "NaN         9\n",
       "Name: WARD, dtype: int64"
      ]
     },
     "execution_count": 19,
     "metadata": {},
     "output_type": "execute_result"
    }
   ],
   "source": [
    "df['WARD'].value_counts(dropna=False)"
   ]
  },
  {
   "cell_type": "markdown",
   "metadata": {},
   "source": [
    "There are 8 wards."
   ]
  },
  {
   "cell_type": "markdown",
   "metadata": {},
   "source": [
    "Districts are related to policing (https://mpdc.dc.gov/page/police-districts-and-police-service-areas).  \n",
    "Wards are for more general governance (https://planning.dc.gov/page/neighborhood-planning-01).\n",
    "\n",
    "Pictorially the differences can be seen clearly (images from the links above).\n",
    "\n",
    "![title](wards_small.png)\n",
    "![title](districts_small.jpg)"
   ]
  },
  {
   "cell_type": "code",
   "execution_count": 20,
   "metadata": {
    "collapsed": false
   },
   "outputs": [
    {
     "data": {
      "text/plain": [
       "2014    38401\n",
       "2015    37299\n",
       "2016    37199\n",
       "2013    35867\n",
       "2012    35283\n",
       "2018    33644\n",
       "2017    33082\n",
       "2011    19472\n",
       "2019    14379\n",
       "Name: YEAR, dtype: int64"
      ]
     },
     "execution_count": 20,
     "metadata": {},
     "output_type": "execute_result"
    }
   ],
   "source": [
    "df.YEAR.value_counts(dropna=False)"
   ]
  },
  {
   "cell_type": "markdown",
   "metadata": {},
   "source": [
    "Dataset contains data from 2011 to 2019. To avoid edge effects, should really only use data between 2012 and 2018 inclusive."
   ]
  },
  {
   "cell_type": "code",
   "execution_count": 21,
   "metadata": {
    "collapsed": false
   },
   "outputs": [
    {
     "data": {
      "text/plain": [
       "property|theft/other                  109217\n",
       "property|theft f/auto                  86910\n",
       "violent|robbery                        25252\n",
       "property|motor vehicle theft           21891\n",
       "property|burglary                      20452\n",
       "violent|assault w/dangerous weapon     17416\n",
       "violent|sex abuse                       2330\n",
       "violent|homicide                         999\n",
       "property|arson                           159\n",
       "Name: offensekey, dtype: int64"
      ]
     },
     "execution_count": 21,
     "metadata": {},
     "output_type": "execute_result"
    }
   ],
   "source": [
    "df.offensekey.value_counts(dropna=False)"
   ]
  },
  {
   "cell_type": "markdown",
   "metadata": {},
   "source": [
    "This appears to be just a concatenation of features `OFFENSE` and `offensegroup`."
   ]
  },
  {
   "cell_type": "code",
   "execution_count": 22,
   "metadata": {
    "collapsed": false
   },
   "outputs": [
    {
     "data": {
      "text/plain": [
       "NaN                          236883\n",
       "downtown                      16364\n",
       "golden triangle                5632\n",
       "georgetown                     5216\n",
       "capitol hill                   4722\n",
       "noma                           4310\n",
       "southwest                      3240\n",
       "adams morgan                   2528\n",
       "capitol riverfront             2194\n",
       "mount vernon triangle cid      1984\n",
       "anacostia                      1454\n",
       "dupont circle                    99\n",
       "Name: BID, dtype: int64"
      ]
     },
     "execution_count": 22,
     "metadata": {},
     "output_type": "execute_result"
    }
   ],
   "source": [
    "df.BID.value_counts(dropna=False)"
   ]
  },
  {
   "cell_type": "markdown",
   "metadata": {},
   "source": [
    "These are names of certain geographical areas. Clearly many have no labels."
   ]
  },
  {
   "cell_type": "code",
   "execution_count": 23,
   "metadata": {
    "collapsed": false
   },
   "outputs": [
    {
     "data": {
      "text/plain": [
       "2D3    26064\n",
       "3D2    19173\n",
       "3D3    17750\n",
       "1D2    17140\n",
       "3D1    15558\n",
       "5D2    15263\n",
       "2D2    14082\n",
       "1D1    13774\n",
       "6D1    13721\n",
       "4D1    13000\n",
       "6D3    12852\n",
       "5D3    12526\n",
       "4D3    12335\n",
       "4D2    11322\n",
       "6D2    11197\n",
       "1D3    10676\n",
       "5D1    10602\n",
       "7D1    10170\n",
       "2D1    10144\n",
       "7D2     9872\n",
       "7D3     7254\n",
       "NaN      151\n",
       "Name: sector, dtype: int64"
      ]
     },
     "execution_count": 23,
     "metadata": {},
     "output_type": "execute_result"
    }
   ],
   "source": [
    "df.sector.value_counts(dropna=False)"
   ]
  },
  {
   "cell_type": "markdown",
   "metadata": {},
   "source": [
    "Sectors are subdivisions of districts. (https://mpdc.dc.gov/page/police-districts-and-police-service-areas)"
   ]
  },
  {
   "cell_type": "code",
   "execution_count": 24,
   "metadata": {
    "collapsed": false
   },
   "outputs": [
    {
     "data": {
      "text/plain": [
       " 207.0    10402\n",
       " 208.0    10101\n",
       " 302.0     9988\n",
       " 305.0     8717\n",
       " 206.0     8372\n",
       " 106.0     7655\n",
       " 602.0     6940\n",
       " 603.0     6911\n",
       " 307.0     6704\n",
       " 101.0     6630\n",
       " 104.0     6630\n",
       " 507.0     6397\n",
       " 503.0     6240\n",
       " 506.0     6129\n",
       " 308.0     6111\n",
       " 107.0     6018\n",
       " 303.0     6010\n",
       " 604.0     5941\n",
       " 304.0     5570\n",
       " 209.0     5561\n",
       " 501.0     5448\n",
       " 505.0     5266\n",
       " 502.0     5154\n",
       " 404.0     5039\n",
       " 301.0     5036\n",
       " 202.0     4895\n",
       " 402.0     4815\n",
       " 607.0     4717\n",
       " 608.0     4713\n",
       " 102.0     4663\n",
       " 108.0     4492\n",
       " 306.0     4345\n",
       " 409.0     4203\n",
       " 401.0     4102\n",
       " 403.0     4083\n",
       " 405.0     4028\n",
       " 704.0     4018\n",
       " 703.0     4009\n",
       " 708.0     3968\n",
       " 204.0     3885\n",
       " 504.0     3757\n",
       " 407.0     3729\n",
       " 406.0     3565\n",
       " 605.0     3467\n",
       " 707.0     3301\n",
       " 706.0     3286\n",
       " 701.0     3168\n",
       " 408.0     3093\n",
       " 105.0     3021\n",
       " 606.0     3013\n",
       " 702.0     2993\n",
       " 203.0     2975\n",
       " 705.0     2553\n",
       " 103.0     2481\n",
       " 201.0     2274\n",
       " 601.0     2068\n",
       " 205.0     1825\n",
       "NaN         151\n",
       "Name: PSA, dtype: int64"
      ]
     },
     "execution_count": 24,
     "metadata": {},
     "output_type": "execute_result"
    }
   ],
   "source": [
    "df.PSA.value_counts(dropna=False)"
   ]
  },
  {
   "cell_type": "markdown",
   "metadata": {},
   "source": [
    "PSA (Police Service Area) are subdivisions of sectors."
   ]
  },
  {
   "cell_type": "code",
   "execution_count": 25,
   "metadata": {
    "collapsed": false
   },
   "outputs": [
    {
     "data": {
      "text/plain": [
       "6    109217\n",
       "7     86910\n",
       "4     25252\n",
       "8     21891\n",
       "5     20452\n",
       "3     17416\n",
       "2      2330\n",
       "1       999\n",
       "9       159\n",
       "Name: ucr-rank, dtype: int64"
      ]
     },
     "execution_count": 25,
     "metadata": {},
     "output_type": "execute_result"
    }
   ],
   "source": [
    "df['ucr-rank'].value_counts()"
   ]
  },
  {
   "cell_type": "markdown",
   "metadata": {},
   "source": [
    "It looks like this is a numerical encoding of the offense, since the values are exactly the same."
   ]
  },
  {
   "cell_type": "code",
   "execution_count": 26,
   "metadata": {
    "collapsed": false
   },
   "outputs": [
    {
     "name": "stdout",
     "output_type": "stream",
     "text": [
      "009509 2\n"
     ]
    },
    {
     "data": {
      "text/plain": [
       "005800 1    7653\n",
       "004400 2    4757\n",
       "010600 2    4365\n",
       "010700 1    4202\n",
       "003000 1    3404\n",
       "009102 2    3271\n",
       "008803 1    3230\n",
       "003100 1    2893\n",
       "010100 1    2514\n",
       "000100 4    2489\n",
       "000202 4    2261\n",
       "004400 1    2242\n",
       "004702 1    2173\n",
       "011100 1    2127\n",
       "010700 2    2127\n",
       "004801 1    2009\n",
       "008302 1    1829\n",
       "003400 2    1809\n",
       "005900 1    1799\n",
       "001804 2    1789\n",
       "007000 2    1768\n",
       "003500 2    1765\n",
       "009603 2    1758\n",
       "011100 3    1715\n",
       "005500 1    1650\n",
       "007200 2    1641\n",
       "006202 1    1618\n",
       "010200 2    1560\n",
       "007504 1    1535\n",
       "007100 2    1529\n",
       "            ... \n",
       "003900 4     141\n",
       "007703 4     140\n",
       "001402 3     139\n",
       "004001 2     139\n",
       "001001 5     138\n",
       "001402 2     131\n",
       "001500 5     124\n",
       "009509 1     124\n",
       "002102 5     123\n",
       "000702 1     120\n",
       "002701 1     119\n",
       "000802 2     109\n",
       "001301 2      92\n",
       "000801 2      90\n",
       "001301 1      81\n",
       "009602 2      81\n",
       "000902 1      80\n",
       "001301 3      79\n",
       "000300 2      74\n",
       "000702 3      71\n",
       "001500 3      68\n",
       "011000 1      65\n",
       "000701 3      57\n",
       "000702 2      54\n",
       "000701 2      50\n",
       "009802 1      48\n",
       "001302 1      46\n",
       "000801 1      38\n",
       "007301 1      22\n",
       "001002 1       2\n",
       "Name: BLOCK_GROUP, Length: 450, dtype: int64"
      ]
     },
     "execution_count": 26,
     "metadata": {},
     "output_type": "execute_result"
    }
   ],
   "source": [
    "print(df['BLOCK_GROUP'])[0]\n",
    "df['BLOCK_GROUP'].value_counts()"
   ]
  },
  {
   "cell_type": "markdown",
   "metadata": {},
   "source": [
    "It's not clear what this is."
   ]
  },
  {
   "cell_type": "code",
   "execution_count": 27,
   "metadata": {
    "collapsed": false
   },
   "outputs": [
    {
     "data": {
      "text/plain": [
       "precinct 129    13063\n",
       "precinct 17      8715\n",
       "precinct 83      6533\n",
       "precinct 72      6270\n",
       "precinct 39      5705\n",
       "precinct 22      5279\n",
       "precinct 6       4950\n",
       "precinct 37      4805\n",
       "precinct 16      4333\n",
       "precinct 1       4233\n",
       "precinct 14      4091\n",
       "precinct 91      3837\n",
       "precinct 76      3756\n",
       "precinct 18      3692\n",
       "precinct 102     3425\n",
       "precinct 5       3399\n",
       "precinct 81      3399\n",
       "precinct 114     3377\n",
       "precinct 19      3294\n",
       "precinct 36      3250\n",
       "precinct 125     3090\n",
       "precinct 137     3014\n",
       "precinct 82      2974\n",
       "precinct 74      2695\n",
       "precinct 89      2685\n",
       "precinct 25      2652\n",
       "precinct 119     2579\n",
       "precinct 31      2570\n",
       "precinct 90      2558\n",
       "precinct 116     2486\n",
       "                ...  \n",
       "precinct 70      1052\n",
       "precinct 64      1021\n",
       "precinct 88      1012\n",
       "precinct 49       995\n",
       "precinct 13       982\n",
       "precinct 133      940\n",
       "precinct 3        898\n",
       "precinct 55       883\n",
       "precinct 45       756\n",
       "precinct 20       755\n",
       "precinct 8        719\n",
       "precinct 58       694\n",
       "precinct 30       677\n",
       "precinct 51       676\n",
       "precinct 112      657\n",
       "precinct 53       642\n",
       "precinct 101      630\n",
       "precinct 29       527\n",
       "precinct 109      524\n",
       "precinct 50       514\n",
       "precinct 10       501\n",
       "precinct 9        471\n",
       "precinct 34       412\n",
       "precinct 108      404\n",
       "precinct 28       397\n",
       "precinct 52       350\n",
       "precinct 12       337\n",
       "precinct 7        324\n",
       "precinct 138      273\n",
       "precinct 136      203\n",
       "Name: VOTING_PRECINCT, Length: 143, dtype: int64"
      ]
     },
     "execution_count": 27,
     "metadata": {},
     "output_type": "execute_result"
    }
   ],
   "source": [
    "df['VOTING_PRECINCT'].value_counts()"
   ]
  },
  {
   "cell_type": "markdown",
   "metadata": {},
   "source": [
    "Self explanatory, probably."
   ]
  },
  {
   "cell_type": "code",
   "execution_count": 28,
   "metadata": {
    "collapsed": false
   },
   "outputs": [
    {
     "data": {
      "text/plain": [
       "<matplotlib.axes._subplots.AxesSubplot at 0x11bf9d3d0>"
      ]
     },
     "execution_count": 28,
     "metadata": {},
     "output_type": "execute_result"
    },
    {
     "data": {
      "image/png": "[encoded data removed]",
      "text/plain": [
       "<matplotlib.figure.Figure at 0x11c360410>"
      ]
     },
     "metadata": {},
     "output_type": "display_data"
    }
   ],
   "source": [
    "df['XBLOCK'].hist()"
   ]
  },
  {
   "cell_type": "markdown",
   "metadata": {},
   "source": [
    "Not sure exactly what this is, but most likely related to `YBLOCK`."
   ]
  },
  {
   "cell_type": "code",
   "execution_count": 29,
   "metadata": {
    "collapsed": false
   },
   "outputs": [
    {
     "data": {
      "text/plain": [
       "0    800 - 899 block of crittenden street ne\n",
       "1      500  - 699 block of peabody street nw\n",
       "2          1810 1899  block of 3rd street nw\n",
       "3       mozart place nw and fuller street nw\n",
       "4             600 - 699 block of h street nw\n",
       "Name: BLOCK, dtype: object"
      ]
     },
     "execution_count": 29,
     "metadata": {},
     "output_type": "execute_result"
    }
   ],
   "source": [
    "df.BLOCK[:5]"
   ]
  },
  {
   "cell_type": "markdown",
   "metadata": {},
   "source": [
    "This seems to be the actual street name of where the crime took place."
   ]
  },
  {
   "cell_type": "code",
   "execution_count": 30,
   "metadata": {
    "collapsed": false
   },
   "outputs": [
    {
     "data": {
      "text/plain": [
       "(14954,)"
      ]
     },
     "execution_count": 30,
     "metadata": {},
     "output_type": "execute_result"
    }
   ],
   "source": [
    "df.BLOCK.unique().shape"
   ]
  },
  {
   "cell_type": "markdown",
   "metadata": {},
   "source": [
    "There's a lot of unique block names, as expected."
   ]
  },
  {
   "cell_type": "code",
   "execution_count": 31,
   "metadata": {
    "collapsed": false
   },
   "outputs": [
    {
     "data": {
      "text/plain": [
       "'2014-08-20T12:00:00.000'"
      ]
     },
     "execution_count": 31,
     "metadata": {},
     "output_type": "execute_result"
    }
   ],
   "source": [
    "df['START_DATE'][0]"
   ]
  },
  {
   "cell_type": "markdown",
   "metadata": {},
   "source": [
    "This is the start date of the crime in string format. We should turn this into a datetime Python object."
   ]
  },
  {
   "cell_type": "code",
   "execution_count": 32,
   "metadata": {
    "collapsed": false
   },
   "outputs": [
    {
     "data": {
      "text/plain": [
       "(284549,)"
      ]
     },
     "execution_count": 32,
     "metadata": {},
     "output_type": "execute_result"
    }
   ],
   "source": [
    "df.CCN.unique().shape"
   ]
  },
  {
   "cell_type": "code",
   "execution_count": 33,
   "metadata": {
    "collapsed": false
   },
   "outputs": [
    {
     "data": {
      "text/plain": [
       "(284626, 29)"
      ]
     },
     "execution_count": 33,
     "metadata": {},
     "output_type": "execute_result"
    }
   ],
   "source": [
    "df.shape"
   ]
  },
  {
   "cell_type": "markdown",
   "metadata": {},
   "source": [
    "There are about as many unique `CCN` values as there are number of rows. Maybe it's like a crime ID."
   ]
  },
  {
   "cell_type": "code",
   "execution_count": 34,
   "metadata": {
    "collapsed": false
   },
   "outputs": [
    {
     "data": {
      "text/plain": [
       "True"
      ]
     },
     "execution_count": 34,
     "metadata": {},
     "output_type": "execute_result"
    }
   ],
   "source": [
    "len(df.OCTO_RECORD_ID.unique()) == df.shape[0]"
   ]
  },
  {
   "cell_type": "markdown",
   "metadata": {},
   "source": [
    "It's likely that `OCTO_RECORD_ID` is a unique identifier for each crime."
   ]
  },
  {
   "cell_type": "code",
   "execution_count": 35,
   "metadata": {
    "collapsed": false
   },
   "outputs": [
    {
     "data": {
      "text/plain": [
       "1B    16852\n",
       "2B    15343\n",
       "1A    14851\n",
       "2C    12158\n",
       "6B    11915\n",
       "5C    11378\n",
       "6C     9926\n",
       "5E     9771\n",
       "2F     9696\n",
       "5D     9579\n",
       "6A     8998\n",
       "6E     8627\n",
       "2E     8348\n",
       "4C     8024\n",
       "7C     7644\n",
       "7F     7465\n",
       "7D     7045\n",
       "4B     7007\n",
       "8A     6903\n",
       "8C     6890\n",
       "7B     6858\n",
       "6D     6767\n",
       "8B     6314\n",
       "7E     6249\n",
       "1C     6200\n",
       "4A     6100\n",
       "8E     5652\n",
       "2A     5398\n",
       "8D     5302\n",
       "5B     5075\n",
       "3E     4629\n",
       "3C     3681\n",
       "5A     3393\n",
       "4D     3377\n",
       "1D     2632\n",
       "3G     2259\n",
       "3F     2039\n",
       "3D     1981\n",
       "3B     1254\n",
       "2D     1046\n",
       "Name: ANC, dtype: int64"
      ]
     },
     "execution_count": 35,
     "metadata": {},
     "output_type": "execute_result"
    }
   ],
   "source": [
    "df.ANC.value_counts()"
   ]
  },
  {
   "cell_type": "markdown",
   "metadata": {},
   "source": [
    "This is the Advisory Neighborhood Commission (ANC) (https://anc.dc.gov/page/about-ancs). This is related to the location."
   ]
  },
  {
   "cell_type": "code",
   "execution_count": 36,
   "metadata": {
    "collapsed": false
   },
   "outputs": [
    {
     "data": {
      "text/plain": [
       "'2014-08-20T16:46:00.000Z'"
      ]
     },
     "execution_count": 36,
     "metadata": {},
     "output_type": "execute_result"
    }
   ],
   "source": [
    "df.REPORT_DAT[0]"
   ]
  },
  {
   "cell_type": "markdown",
   "metadata": {},
   "source": [
    "I guess this is the date reported. Is this different from `START_DATE`?"
   ]
  },
  {
   "cell_type": "code",
   "execution_count": 37,
   "metadata": {
    "collapsed": false
   },
   "outputs": [
    {
     "data": {
      "text/plain": [
       "'2014-08-20T12:00:00.000'"
      ]
     },
     "execution_count": 37,
     "metadata": {},
     "output_type": "execute_result"
    }
   ],
   "source": [
    "df.START_DATE[0]"
   ]
  },
  {
   "cell_type": "markdown",
   "metadata": {},
   "source": [
    "The time is a little different."
   ]
  },
  {
   "cell_type": "code",
   "execution_count": 38,
   "metadata": {
    "collapsed": false
   },
   "outputs": [
    {
     "data": {
      "text/plain": [
       "others    260375\n",
       "gun        15652\n",
       "knife       8599\n",
       "Name: METHOD, dtype: int64"
      ]
     },
     "execution_count": 38,
     "metadata": {},
     "output_type": "execute_result"
    }
   ],
   "source": [
    "df.METHOD.value_counts()"
   ]
  },
  {
   "cell_type": "markdown",
   "metadata": {},
   "source": [
    "I guess this is the tool used to commit the crime."
   ]
  },
  {
   "cell_type": "code",
   "execution_count": 39,
   "metadata": {
    "collapsed": false
   },
   "outputs": [
    {
     "data": {
      "text/plain": [
       "0    38.947289585934314,-76.993807538940317\n",
       "1    38.962700977587048,-77.021175136089184\n",
       "2    38.915120024258918,-77.015707015122302\n",
       "3    38.924717823327491,-77.037862469649198\n",
       "4    38.899814022192331,-77.020925903391088\n",
       "Name: location, dtype: object"
      ]
     },
     "execution_count": 39,
     "metadata": {},
     "output_type": "execute_result"
    }
   ],
   "source": [
    "df.location[:5]"
   ]
  },
  {
   "cell_type": "markdown",
   "metadata": {},
   "source": [
    "These appear to by (latitude, longitude) pairs in string format."
   ]
  },
  {
   "cell_type": "code",
   "execution_count": 40,
   "metadata": {
    "collapsed": false
   },
   "outputs": [
    {
     "data": {
      "text/plain": [
       "<matplotlib.axes._subplots.AxesSubplot at 0x11d22ec10>"
      ]
     },
     "execution_count": 40,
     "metadata": {},
     "output_type": "execute_result"
    },
    {
     "data": {
      "image/png": "[encoded data removed]",
      "text/plain": [
       "<matplotlib.figure.Figure at 0x11d0db4d0>"
      ]
     },
     "metadata": {},
     "output_type": "display_data"
    }
   ],
   "source": [
    "df.LATITUDE.hist()"
   ]
  },
  {
   "cell_type": "markdown",
   "metadata": {},
   "source": [
    "`LATITUDE` is self explanatory."
   ]
  },
  {
   "cell_type": "code",
   "execution_count": 41,
   "metadata": {
    "collapsed": false
   },
   "outputs": [
    {
     "data": {
      "text/plain": [
       "<matplotlib.collections.PathCollection at 0x11d054050>"
      ]
     },
     "execution_count": 41,
     "metadata": {},
     "output_type": "execute_result"
    },
    {
     "data": {
      "image/png": "[encoded data removed]",
      "text/plain": [
       "<matplotlib.figure.Figure at 0x11d9dc090>"
      ]
     },
     "metadata": {},
     "output_type": "display_data"
    }
   ],
   "source": [
    "plt.scatter(df.LONGITUDE, df.LATITUDE)"
   ]
  },
  {
   "cell_type": "markdown",
   "metadata": {},
   "source": [
    "Generally it appears there is crime everywhere in DC except at rivers. Or maybe natural areas are a different jurisdiction."
   ]
  },
  {
   "cell_type": "markdown",
   "metadata": {},
   "source": [
    "# Preprocessing and feature selection\n",
    "\n",
    "Now that we have an idea of what the features we can work with are, let's choose a subset of meaningful ones that we can work with to build a model.\n",
    "\n",
    "Qualitatively, let's keep the following types of variables.\n",
    "\n",
    "1. Offense type\n",
    "2. Time it happened\n",
    "3. Where it happened\n",
    "\n",
    "Note that there are many ways geographic information is provided in the data, e.g., `NEIGHBHORHOOD_CLUSTER`, `DISTRICT`, `WARD`, `ANC`. We should pick one, since choosing multiple will lead to co-linear features. It should not be too fine-grained as that can cause overfitting. Since this is a policing data set, it makes sense to use a geographic division consistent with the local police areas. This means I should use `DISTRICT` as my unit of location.\n",
    "\n",
    "1. `offensegroup`\n",
    "2. `START_DATE`\n",
    "3. `DISTRICT`\n",
    "4. `YEAR`"
   ]
  },
  {
   "cell_type": "code",
   "execution_count": 42,
   "metadata": {
    "collapsed": false
   },
   "outputs": [
    {
     "data": {
      "text/html": [
       "<div>\n",
       "<style scoped>\n",
       "    .dataframe tbody tr th:only-of-type {\n",
       "        vertical-align: middle;\n",
       "    }\n",
       "\n",
       "    .dataframe tbody tr th {\n",
       "        vertical-align: top;\n",
       "    }\n",
       "\n",
       "    .dataframe thead th {\n",
       "        text-align: right;\n",
       "    }\n",
       "</style>\n",
       "<table border=\"1\" class=\"dataframe\">\n",
       "  <thead>\n",
       "    <tr style=\"text-align: right;\">\n",
       "      <th></th>\n",
       "      <th>offensegroup</th>\n",
       "      <th>START_DATE</th>\n",
       "      <th>DISTRICT</th>\n",
       "      <th>YEAR</th>\n",
       "    </tr>\n",
       "  </thead>\n",
       "  <tbody>\n",
       "    <tr>\n",
       "      <th>0</th>\n",
       "      <td>property</td>\n",
       "      <td>2014-08-20T12:00:00.000</td>\n",
       "      <td>4.0</td>\n",
       "      <td>2014</td>\n",
       "    </tr>\n",
       "    <tr>\n",
       "      <th>1</th>\n",
       "      <td>property</td>\n",
       "      <td>2014-08-20T13:25:00.000</td>\n",
       "      <td>4.0</td>\n",
       "      <td>2014</td>\n",
       "    </tr>\n",
       "    <tr>\n",
       "      <th>2</th>\n",
       "      <td>property</td>\n",
       "      <td>2014-08-20T15:49:00.000</td>\n",
       "      <td>3.0</td>\n",
       "      <td>2014</td>\n",
       "    </tr>\n",
       "    <tr>\n",
       "      <th>3</th>\n",
       "      <td>property</td>\n",
       "      <td>2014-08-23T13:45:00.000</td>\n",
       "      <td>3.0</td>\n",
       "      <td>2014</td>\n",
       "    </tr>\n",
       "    <tr>\n",
       "      <th>4</th>\n",
       "      <td>violent</td>\n",
       "      <td>2014-08-23T15:00:00.000</td>\n",
       "      <td>1.0</td>\n",
       "      <td>2014</td>\n",
       "    </tr>\n",
       "  </tbody>\n",
       "</table>\n",
       "</div>"
      ],
      "text/plain": [
       "  offensegroup               START_DATE  DISTRICT  YEAR\n",
       "0     property  2014-08-20T12:00:00.000       4.0  2014\n",
       "1     property  2014-08-20T13:25:00.000       4.0  2014\n",
       "2     property  2014-08-20T15:49:00.000       3.0  2014\n",
       "3     property  2014-08-23T13:45:00.000       3.0  2014\n",
       "4      violent  2014-08-23T15:00:00.000       1.0  2014"
      ]
     },
     "execution_count": 42,
     "metadata": {},
     "output_type": "execute_result"
    }
   ],
   "source": [
    "crime = df[['offensegroup','START_DATE','DISTRICT','YEAR']]\n",
    "crime.head()"
   ]
  },
  {
   "cell_type": "markdown",
   "metadata": {},
   "source": [
    "To avoid edge effects and to have the full data for each year, I subset on `YEAR` between 2012 and 2018."
   ]
  },
  {
   "cell_type": "code",
   "execution_count": 43,
   "metadata": {
    "collapsed": false
   },
   "outputs": [
    {
     "data": {
      "text/html": [
       "<div>\n",
       "<style scoped>\n",
       "    .dataframe tbody tr th:only-of-type {\n",
       "        vertical-align: middle;\n",
       "    }\n",
       "\n",
       "    .dataframe tbody tr th {\n",
       "        vertical-align: top;\n",
       "    }\n",
       "\n",
       "    .dataframe thead th {\n",
       "        text-align: right;\n",
       "    }\n",
       "</style>\n",
       "<table border=\"1\" class=\"dataframe\">\n",
       "  <thead>\n",
       "    <tr style=\"text-align: right;\">\n",
       "      <th></th>\n",
       "      <th>DISTRICT</th>\n",
       "      <th>YEAR</th>\n",
       "    </tr>\n",
       "  </thead>\n",
       "  <tbody>\n",
       "    <tr>\n",
       "      <th>count</th>\n",
       "      <td>250642.000000</td>\n",
       "      <td>250775.000000</td>\n",
       "    </tr>\n",
       "    <tr>\n",
       "      <th>mean</th>\n",
       "      <td>3.716711</td>\n",
       "      <td>2014.953388</td>\n",
       "    </tr>\n",
       "    <tr>\n",
       "      <th>std</th>\n",
       "      <td>1.911543</td>\n",
       "      <td>1.967940</td>\n",
       "    </tr>\n",
       "    <tr>\n",
       "      <th>min</th>\n",
       "      <td>1.000000</td>\n",
       "      <td>2012.000000</td>\n",
       "    </tr>\n",
       "    <tr>\n",
       "      <th>25%</th>\n",
       "      <td>2.000000</td>\n",
       "      <td>2013.000000</td>\n",
       "    </tr>\n",
       "    <tr>\n",
       "      <th>50%</th>\n",
       "      <td>3.000000</td>\n",
       "      <td>2015.000000</td>\n",
       "    </tr>\n",
       "    <tr>\n",
       "      <th>75%</th>\n",
       "      <td>5.000000</td>\n",
       "      <td>2017.000000</td>\n",
       "    </tr>\n",
       "    <tr>\n",
       "      <th>max</th>\n",
       "      <td>7.000000</td>\n",
       "      <td>2018.000000</td>\n",
       "    </tr>\n",
       "  </tbody>\n",
       "</table>\n",
       "</div>"
      ],
      "text/plain": [
       "            DISTRICT           YEAR\n",
       "count  250642.000000  250775.000000\n",
       "mean        3.716711    2014.953388\n",
       "std         1.911543       1.967940\n",
       "min         1.000000    2012.000000\n",
       "25%         2.000000    2013.000000\n",
       "50%         3.000000    2015.000000\n",
       "75%         5.000000    2017.000000\n",
       "max         7.000000    2018.000000"
      ]
     },
     "execution_count": 43,
     "metadata": {},
     "output_type": "execute_result"
    }
   ],
   "source": [
    "crime = crime[(crime.YEAR > 2011) & (crime.YEAR < 2019)]\n",
    "crime.describe()"
   ]
  },
  {
   "cell_type": "markdown",
   "metadata": {},
   "source": [
    "We see that the minimum year is now 2012 and maximum year is now 2018."
   ]
  },
  {
   "cell_type": "code",
   "execution_count": 44,
   "metadata": {
    "collapsed": false
   },
   "outputs": [
    {
     "data": {
      "text/plain": [
       "offensegroup      0\n",
       "START_DATE        4\n",
       "DISTRICT        133\n",
       "YEAR              0\n",
       "dtype: int64"
      ]
     },
     "execution_count": 44,
     "metadata": {},
     "output_type": "execute_result"
    }
   ],
   "source": [
    "crime.isnull().sum()"
   ]
  },
  {
   "cell_type": "code",
   "execution_count": 45,
   "metadata": {
    "collapsed": false
   },
   "outputs": [
    {
     "data": {
      "text/plain": [
       "(250775, 4)"
      ]
     },
     "execution_count": 45,
     "metadata": {},
     "output_type": "execute_result"
    }
   ],
   "source": [
    "crime.shape"
   ]
  },
  {
   "cell_type": "markdown",
   "metadata": {},
   "source": [
    "There are a few crimes where the start date and/or district is not known. These are relatively few out of the 250775 rows, so I will just drop rows with any null values."
   ]
  },
  {
   "cell_type": "code",
   "execution_count": 46,
   "metadata": {
    "collapsed": false
   },
   "outputs": [
    {
     "data": {
      "text/plain": [
       "(250638, 4)"
      ]
     },
     "execution_count": 46,
     "metadata": {},
     "output_type": "execute_result"
    }
   ],
   "source": [
    "crime = crime.dropna(axis=0)\n",
    "crime.shape"
   ]
  },
  {
   "cell_type": "code",
   "execution_count": 47,
   "metadata": {
    "collapsed": false
   },
   "outputs": [
    {
     "data": {
      "text/html": [
       "<div>\n",
       "<style scoped>\n",
       "    .dataframe tbody tr th:only-of-type {\n",
       "        vertical-align: middle;\n",
       "    }\n",
       "\n",
       "    .dataframe tbody tr th {\n",
       "        vertical-align: top;\n",
       "    }\n",
       "\n",
       "    .dataframe thead th {\n",
       "        text-align: right;\n",
       "    }\n",
       "</style>\n",
       "<table border=\"1\" class=\"dataframe\">\n",
       "  <thead>\n",
       "    <tr style=\"text-align: right;\">\n",
       "      <th></th>\n",
       "      <th>offensegroup</th>\n",
       "      <th>START_DATE</th>\n",
       "      <th>DISTRICT</th>\n",
       "      <th>YEAR</th>\n",
       "    </tr>\n",
       "  </thead>\n",
       "  <tbody>\n",
       "    <tr>\n",
       "      <th>0</th>\n",
       "      <td>property</td>\n",
       "      <td>2014-08-20T12:00:00.000</td>\n",
       "      <td>4.0</td>\n",
       "      <td>2014</td>\n",
       "    </tr>\n",
       "    <tr>\n",
       "      <th>1</th>\n",
       "      <td>property</td>\n",
       "      <td>2014-08-20T13:25:00.000</td>\n",
       "      <td>4.0</td>\n",
       "      <td>2014</td>\n",
       "    </tr>\n",
       "    <tr>\n",
       "      <th>2</th>\n",
       "      <td>property</td>\n",
       "      <td>2014-08-20T15:49:00.000</td>\n",
       "      <td>3.0</td>\n",
       "      <td>2014</td>\n",
       "    </tr>\n",
       "    <tr>\n",
       "      <th>3</th>\n",
       "      <td>property</td>\n",
       "      <td>2014-08-23T13:45:00.000</td>\n",
       "      <td>3.0</td>\n",
       "      <td>2014</td>\n",
       "    </tr>\n",
       "    <tr>\n",
       "      <th>4</th>\n",
       "      <td>violent</td>\n",
       "      <td>2014-08-23T15:00:00.000</td>\n",
       "      <td>1.0</td>\n",
       "      <td>2014</td>\n",
       "    </tr>\n",
       "  </tbody>\n",
       "</table>\n",
       "</div>"
      ],
      "text/plain": [
       "  offensegroup               START_DATE  DISTRICT  YEAR\n",
       "0     property  2014-08-20T12:00:00.000       4.0  2014\n",
       "1     property  2014-08-20T13:25:00.000       4.0  2014\n",
       "2     property  2014-08-20T15:49:00.000       3.0  2014\n",
       "3     property  2014-08-23T13:45:00.000       3.0  2014\n",
       "4      violent  2014-08-23T15:00:00.000       1.0  2014"
      ]
     },
     "execution_count": 47,
     "metadata": {},
     "output_type": "execute_result"
    }
   ],
   "source": [
    "crime.head()"
   ]
  },
  {
   "cell_type": "code",
   "execution_count": 48,
   "metadata": {
    "collapsed": false
   },
   "outputs": [
    {
     "data": {
      "text/plain": [
       "property    210282\n",
       "violent      40356\n",
       "Name: offensegroup, dtype: int64"
      ]
     },
     "execution_count": 48,
     "metadata": {},
     "output_type": "execute_result"
    }
   ],
   "source": [
    "crime.offensegroup.value_counts(dropna=False)"
   ]
  },
  {
   "cell_type": "markdown",
   "metadata": {},
   "source": [
    "We see that out of about 250K crimes, 16% are violent crimes and 84% are property crimes. This is somewhat imbalanced for the purposes of model building, but it is not too extreme."
   ]
  },
  {
   "cell_type": "markdown",
   "metadata": {},
   "source": [
    "Let's now convert `START_DATE` into a datetime object and extract some date and time information suitable for machine learning."
   ]
  },
  {
   "cell_type": "code",
   "execution_count": 49,
   "metadata": {
    "collapsed": false
   },
   "outputs": [
    {
     "data": {
      "text/plain": [
       "0   2014-08-20 12:00:00\n",
       "1   2014-08-20 13:25:00\n",
       "2   2014-08-20 15:49:00\n",
       "3   2014-08-23 13:45:00\n",
       "4   2014-08-23 15:00:00\n",
       "Name: START_DATE, dtype: datetime64[ns]"
      ]
     },
     "execution_count": 49,
     "metadata": {},
     "output_type": "execute_result"
    }
   ],
   "source": [
    "crime.START_DATE = crime.START_DATE.map(lambda x: datetime.strptime(x.replace('T',' '), '%Y-%m-%d %H:%M:%S.%f'))\n",
    "crime.START_DATE[:5]"
   ]
  },
  {
   "cell_type": "markdown",
   "metadata": {},
   "source": [
    "From the datetime, get the weekday. 0 is Monday and 6 is Sunday.\n",
    "\n",
    "https://docs.python.org/2/library/datetime.html"
   ]
  },
  {
   "cell_type": "code",
   "execution_count": 50,
   "metadata": {
    "collapsed": false
   },
   "outputs": [
    {
     "data": {
      "text/plain": [
       "0    2\n",
       "1    2\n",
       "2    2\n",
       "3    5\n",
       "4    5\n",
       "Name: weekday, dtype: int64"
      ]
     },
     "execution_count": 50,
     "metadata": {},
     "output_type": "execute_result"
    }
   ],
   "source": [
    "crime['weekday'] = crime.START_DATE.map(lambda x: x.weekday())\n",
    "crime.weekday[:5]"
   ]
  },
  {
   "cell_type": "markdown",
   "metadata": {},
   "source": [
    "Get the month."
   ]
  },
  {
   "cell_type": "code",
   "execution_count": 51,
   "metadata": {
    "collapsed": false
   },
   "outputs": [
    {
     "data": {
      "text/plain": [
       "0    8\n",
       "1    8\n",
       "2    8\n",
       "3    8\n",
       "4    8\n",
       "Name: month, dtype: int64"
      ]
     },
     "execution_count": 51,
     "metadata": {},
     "output_type": "execute_result"
    }
   ],
   "source": [
    "crime['month'] = crime.START_DATE.map(lambda x: x.month)\n",
    "crime.month[:5]"
   ]
  },
  {
   "cell_type": "markdown",
   "metadata": {},
   "source": [
    "Get the hour."
   ]
  },
  {
   "cell_type": "code",
   "execution_count": 52,
   "metadata": {
    "collapsed": false
   },
   "outputs": [
    {
     "data": {
      "text/plain": [
       "0    12\n",
       "1    13\n",
       "2    15\n",
       "3    13\n",
       "4    15\n",
       "Name: hour, dtype: int64"
      ]
     },
     "execution_count": 52,
     "metadata": {},
     "output_type": "execute_result"
    }
   ],
   "source": [
    "crime['hour'] = crime.START_DATE.map(lambda x: x.hour)\n",
    "crime.hour[:5]"
   ]
  },
  {
   "cell_type": "code",
   "execution_count": 53,
   "metadata": {
    "collapsed": false
   },
   "outputs": [
    {
     "data": {
      "text/html": [
       "<div>\n",
       "<style scoped>\n",
       "    .dataframe tbody tr th:only-of-type {\n",
       "        vertical-align: middle;\n",
       "    }\n",
       "\n",
       "    .dataframe tbody tr th {\n",
       "        vertical-align: top;\n",
       "    }\n",
       "\n",
       "    .dataframe thead th {\n",
       "        text-align: right;\n",
       "    }\n",
       "</style>\n",
       "<table border=\"1\" class=\"dataframe\">\n",
       "  <thead>\n",
       "    <tr style=\"text-align: right;\">\n",
       "      <th></th>\n",
       "      <th>offensegroup</th>\n",
       "      <th>START_DATE</th>\n",
       "      <th>DISTRICT</th>\n",
       "      <th>YEAR</th>\n",
       "      <th>weekday</th>\n",
       "      <th>month</th>\n",
       "      <th>hour</th>\n",
       "    </tr>\n",
       "  </thead>\n",
       "  <tbody>\n",
       "    <tr>\n",
       "      <th>0</th>\n",
       "      <td>property</td>\n",
       "      <td>2014-08-20 12:00:00</td>\n",
       "      <td>4.0</td>\n",
       "      <td>2014</td>\n",
       "      <td>2</td>\n",
       "      <td>8</td>\n",
       "      <td>12</td>\n",
       "    </tr>\n",
       "    <tr>\n",
       "      <th>1</th>\n",
       "      <td>property</td>\n",
       "      <td>2014-08-20 13:25:00</td>\n",
       "      <td>4.0</td>\n",
       "      <td>2014</td>\n",
       "      <td>2</td>\n",
       "      <td>8</td>\n",
       "      <td>13</td>\n",
       "    </tr>\n",
       "    <tr>\n",
       "      <th>2</th>\n",
       "      <td>property</td>\n",
       "      <td>2014-08-20 15:49:00</td>\n",
       "      <td>3.0</td>\n",
       "      <td>2014</td>\n",
       "      <td>2</td>\n",
       "      <td>8</td>\n",
       "      <td>15</td>\n",
       "    </tr>\n",
       "    <tr>\n",
       "      <th>3</th>\n",
       "      <td>property</td>\n",
       "      <td>2014-08-23 13:45:00</td>\n",
       "      <td>3.0</td>\n",
       "      <td>2014</td>\n",
       "      <td>5</td>\n",
       "      <td>8</td>\n",
       "      <td>13</td>\n",
       "    </tr>\n",
       "    <tr>\n",
       "      <th>4</th>\n",
       "      <td>violent</td>\n",
       "      <td>2014-08-23 15:00:00</td>\n",
       "      <td>1.0</td>\n",
       "      <td>2014</td>\n",
       "      <td>5</td>\n",
       "      <td>8</td>\n",
       "      <td>15</td>\n",
       "    </tr>\n",
       "  </tbody>\n",
       "</table>\n",
       "</div>"
      ],
      "text/plain": [
       "  offensegroup          START_DATE  DISTRICT  YEAR  weekday  month  hour\n",
       "0     property 2014-08-20 12:00:00       4.0  2014        2      8    12\n",
       "1     property 2014-08-20 13:25:00       4.0  2014        2      8    13\n",
       "2     property 2014-08-20 15:49:00       3.0  2014        2      8    15\n",
       "3     property 2014-08-23 13:45:00       3.0  2014        5      8    13\n",
       "4      violent 2014-08-23 15:00:00       1.0  2014        5      8    15"
      ]
     },
     "execution_count": 53,
     "metadata": {},
     "output_type": "execute_result"
    }
   ],
   "source": [
    "crime.head()"
   ]
  },
  {
   "cell_type": "markdown",
   "metadata": {},
   "source": [
    "Let's recode the `offensegroup` so that `violent` is 1 and `property` is 0."
   ]
  },
  {
   "cell_type": "code",
   "execution_count": 54,
   "metadata": {
    "collapsed": false
   },
   "outputs": [
    {
     "data": {
      "text/html": [
       "<div>\n",
       "<style scoped>\n",
       "    .dataframe tbody tr th:only-of-type {\n",
       "        vertical-align: middle;\n",
       "    }\n",
       "\n",
       "    .dataframe tbody tr th {\n",
       "        vertical-align: top;\n",
       "    }\n",
       "\n",
       "    .dataframe thead th {\n",
       "        text-align: right;\n",
       "    }\n",
       "</style>\n",
       "<table border=\"1\" class=\"dataframe\">\n",
       "  <thead>\n",
       "    <tr style=\"text-align: right;\">\n",
       "      <th></th>\n",
       "      <th>offensegroup</th>\n",
       "      <th>START_DATE</th>\n",
       "      <th>DISTRICT</th>\n",
       "      <th>YEAR</th>\n",
       "      <th>weekday</th>\n",
       "      <th>month</th>\n",
       "      <th>hour</th>\n",
       "      <th>y</th>\n",
       "    </tr>\n",
       "  </thead>\n",
       "  <tbody>\n",
       "    <tr>\n",
       "      <th>0</th>\n",
       "      <td>property</td>\n",
       "      <td>2014-08-20 12:00:00</td>\n",
       "      <td>4.0</td>\n",
       "      <td>2014</td>\n",
       "      <td>2</td>\n",
       "      <td>8</td>\n",
       "      <td>12</td>\n",
       "      <td>0</td>\n",
       "    </tr>\n",
       "    <tr>\n",
       "      <th>1</th>\n",
       "      <td>property</td>\n",
       "      <td>2014-08-20 13:25:00</td>\n",
       "      <td>4.0</td>\n",
       "      <td>2014</td>\n",
       "      <td>2</td>\n",
       "      <td>8</td>\n",
       "      <td>13</td>\n",
       "      <td>0</td>\n",
       "    </tr>\n",
       "    <tr>\n",
       "      <th>2</th>\n",
       "      <td>property</td>\n",
       "      <td>2014-08-20 15:49:00</td>\n",
       "      <td>3.0</td>\n",
       "      <td>2014</td>\n",
       "      <td>2</td>\n",
       "      <td>8</td>\n",
       "      <td>15</td>\n",
       "      <td>0</td>\n",
       "    </tr>\n",
       "    <tr>\n",
       "      <th>3</th>\n",
       "      <td>property</td>\n",
       "      <td>2014-08-23 13:45:00</td>\n",
       "      <td>3.0</td>\n",
       "      <td>2014</td>\n",
       "      <td>5</td>\n",
       "      <td>8</td>\n",
       "      <td>13</td>\n",
       "      <td>0</td>\n",
       "    </tr>\n",
       "    <tr>\n",
       "      <th>4</th>\n",
       "      <td>violent</td>\n",
       "      <td>2014-08-23 15:00:00</td>\n",
       "      <td>1.0</td>\n",
       "      <td>2014</td>\n",
       "      <td>5</td>\n",
       "      <td>8</td>\n",
       "      <td>15</td>\n",
       "      <td>1</td>\n",
       "    </tr>\n",
       "  </tbody>\n",
       "</table>\n",
       "</div>"
      ],
      "text/plain": [
       "  offensegroup          START_DATE  DISTRICT  YEAR  weekday  month  hour  y\n",
       "0     property 2014-08-20 12:00:00       4.0  2014        2      8    12  0\n",
       "1     property 2014-08-20 13:25:00       4.0  2014        2      8    13  0\n",
       "2     property 2014-08-20 15:49:00       3.0  2014        2      8    15  0\n",
       "3     property 2014-08-23 13:45:00       3.0  2014        5      8    13  0\n",
       "4      violent 2014-08-23 15:00:00       1.0  2014        5      8    15  1"
      ]
     },
     "execution_count": 54,
     "metadata": {},
     "output_type": "execute_result"
    }
   ],
   "source": [
    "crime['y'] = (crime.offensegroup == 'violent')*1\n",
    "crime.head()"
   ]
  },
  {
   "cell_type": "code",
   "execution_count": 55,
   "metadata": {
    "collapsed": false
   },
   "outputs": [
    {
     "data": {
      "text/html": [
       "<div>\n",
       "<style scoped>\n",
       "    .dataframe tbody tr th:only-of-type {\n",
       "        vertical-align: middle;\n",
       "    }\n",
       "\n",
       "    .dataframe tbody tr th {\n",
       "        vertical-align: top;\n",
       "    }\n",
       "\n",
       "    .dataframe thead th {\n",
       "        text-align: right;\n",
       "    }\n",
       "</style>\n",
       "<table border=\"1\" class=\"dataframe\">\n",
       "  <thead>\n",
       "    <tr style=\"text-align: right;\">\n",
       "      <th></th>\n",
       "      <th>YEAR</th>\n",
       "      <th>weekday</th>\n",
       "      <th>month</th>\n",
       "      <th>hour</th>\n",
       "      <th>DISTRICT</th>\n",
       "      <th>y</th>\n",
       "    </tr>\n",
       "  </thead>\n",
       "  <tbody>\n",
       "    <tr>\n",
       "      <th>0</th>\n",
       "      <td>2014</td>\n",
       "      <td>2</td>\n",
       "      <td>8</td>\n",
       "      <td>12</td>\n",
       "      <td>4.0</td>\n",
       "      <td>0</td>\n",
       "    </tr>\n",
       "    <tr>\n",
       "      <th>1</th>\n",
       "      <td>2014</td>\n",
       "      <td>2</td>\n",
       "      <td>8</td>\n",
       "      <td>13</td>\n",
       "      <td>4.0</td>\n",
       "      <td>0</td>\n",
       "    </tr>\n",
       "    <tr>\n",
       "      <th>2</th>\n",
       "      <td>2014</td>\n",
       "      <td>2</td>\n",
       "      <td>8</td>\n",
       "      <td>15</td>\n",
       "      <td>3.0</td>\n",
       "      <td>0</td>\n",
       "    </tr>\n",
       "    <tr>\n",
       "      <th>3</th>\n",
       "      <td>2014</td>\n",
       "      <td>5</td>\n",
       "      <td>8</td>\n",
       "      <td>13</td>\n",
       "      <td>3.0</td>\n",
       "      <td>0</td>\n",
       "    </tr>\n",
       "    <tr>\n",
       "      <th>4</th>\n",
       "      <td>2014</td>\n",
       "      <td>5</td>\n",
       "      <td>8</td>\n",
       "      <td>15</td>\n",
       "      <td>1.0</td>\n",
       "      <td>1</td>\n",
       "    </tr>\n",
       "  </tbody>\n",
       "</table>\n",
       "</div>"
      ],
      "text/plain": [
       "   YEAR  weekday  month  hour  DISTRICT  y\n",
       "0  2014        2      8    12       4.0  0\n",
       "1  2014        2      8    13       4.0  0\n",
       "2  2014        2      8    15       3.0  0\n",
       "3  2014        5      8    13       3.0  0\n",
       "4  2014        5      8    15       1.0  1"
      ]
     },
     "execution_count": 55,
     "metadata": {},
     "output_type": "execute_result"
    }
   ],
   "source": [
    "modeling = crime[['YEAR','weekday','month','hour','DISTRICT','y']]\n",
    "modeling.head()"
   ]
  },
  {
   "cell_type": "markdown",
   "metadata": {},
   "source": [
    "# Model training"
   ]
  },
  {
   "cell_type": "markdown",
   "metadata": {},
   "source": [
    "For interpretability purposes, I use a logistic regression to determine the factors related to the type of crime (property or violent)."
   ]
  },
  {
   "cell_type": "code",
   "execution_count": 56,
   "metadata": {
    "collapsed": false
   },
   "outputs": [
    {
     "name": "stdout",
     "output_type": "stream",
     "text": [
      "(216999, 6)\n",
      "(33639, 6)\n"
     ]
    }
   ],
   "source": [
    "train = modeling[modeling.YEAR != 2018]\n",
    "test = modeling[modeling.YEAR == 2018]\n",
    "print(train.shape)\n",
    "print(test.shape)"
   ]
  },
  {
   "cell_type": "code",
   "execution_count": 57,
   "metadata": {
    "collapsed": true
   },
   "outputs": [],
   "source": [
    "formula = 'y ~ C(weekday) + C(month) + C(hour) + C(DISTRICT)'"
   ]
  },
  {
   "cell_type": "code",
   "execution_count": 58,
   "metadata": {
    "collapsed": false
   },
   "outputs": [
    {
     "name": "stdout",
     "output_type": "stream",
     "text": [
      "Optimization terminated successfully.\n",
      "         Current function value: 0.410816\n",
      "         Iterations 7\n"
     ]
    },
    {
     "data": {
      "text/html": [
       "<table class=\"simpletable\">\n",
       "<caption>Logit Regression Results</caption>\n",
       "<tr>\n",
       "  <th>Dep. Variable:</th>         <td>y</td>        <th>  No. Observations:  </th>  <td>216999</td> \n",
       "</tr>\n",
       "<tr>\n",
       "  <th>Model:</th>               <td>Logit</td>      <th>  Df Residuals:      </th>  <td>216952</td> \n",
       "</tr>\n",
       "<tr>\n",
       "  <th>Method:</th>               <td>MLE</td>       <th>  Df Model:          </th>  <td>    46</td> \n",
       "</tr>\n",
       "<tr>\n",
       "  <th>Date:</th>          <td>Mon, 24 Jun 2019</td> <th>  Pseudo R-squ.:     </th>  <td>0.08928</td>\n",
       "</tr>\n",
       "<tr>\n",
       "  <th>Time:</th>              <td>11:09:44</td>     <th>  Log-Likelihood:    </th> <td> -89147.</td>\n",
       "</tr>\n",
       "<tr>\n",
       "  <th>converged:</th>           <td>True</td>       <th>  LL-Null:           </th> <td> -97886.</td>\n",
       "</tr>\n",
       "<tr>\n",
       "  <th> </th>                      <td> </td>        <th>  LLR p-value:       </th>  <td> 0.000</td> \n",
       "</tr>\n",
       "</table>\n",
       "<table class=\"simpletable\">\n",
       "<tr>\n",
       "           <td></td>             <th>coef</th>     <th>std err</th>      <th>z</th>      <th>P>|z|</th>  <th>[0.025</th>    <th>0.975]</th>  \n",
       "</tr>\n",
       "<tr>\n",
       "  <th>Intercept</th>          <td>   -1.3191</td> <td>    0.040</td> <td>  -33.141</td> <td> 0.000</td> <td>   -1.397</td> <td>   -1.241</td>\n",
       "</tr>\n",
       "<tr>\n",
       "  <th>C(weekday)[T.1L]</th>   <td>    0.0110</td> <td>    0.023</td> <td>    0.476</td> <td> 0.634</td> <td>   -0.034</td> <td>    0.056</td>\n",
       "</tr>\n",
       "<tr>\n",
       "  <th>C(weekday)[T.2L]</th>   <td>    0.0178</td> <td>    0.023</td> <td>    0.770</td> <td> 0.441</td> <td>   -0.027</td> <td>    0.063</td>\n",
       "</tr>\n",
       "<tr>\n",
       "  <th>C(weekday)[T.3L]</th>   <td>   -0.0290</td> <td>    0.023</td> <td>   -1.247</td> <td> 0.212</td> <td>   -0.075</td> <td>    0.017</td>\n",
       "</tr>\n",
       "<tr>\n",
       "  <th>C(weekday)[T.4L]</th>   <td>   -0.0780</td> <td>    0.023</td> <td>   -3.435</td> <td> 0.001</td> <td>   -0.122</td> <td>   -0.033</td>\n",
       "</tr>\n",
       "<tr>\n",
       "  <th>C(weekday)[T.5L]</th>   <td>    0.0236</td> <td>    0.022</td> <td>    1.061</td> <td> 0.289</td> <td>   -0.020</td> <td>    0.067</td>\n",
       "</tr>\n",
       "<tr>\n",
       "  <th>C(weekday)[T.6L]</th>   <td>    0.0855</td> <td>    0.023</td> <td>    3.783</td> <td> 0.000</td> <td>    0.041</td> <td>    0.130</td>\n",
       "</tr>\n",
       "<tr>\n",
       "  <th>C(month)[T.2L]</th>     <td>   -0.0515</td> <td>    0.032</td> <td>   -1.621</td> <td> 0.105</td> <td>   -0.114</td> <td>    0.011</td>\n",
       "</tr>\n",
       "<tr>\n",
       "  <th>C(month)[T.3L]</th>     <td>   -0.1150</td> <td>    0.031</td> <td>   -3.722</td> <td> 0.000</td> <td>   -0.176</td> <td>   -0.054</td>\n",
       "</tr>\n",
       "<tr>\n",
       "  <th>C(month)[T.4L]</th>     <td>   -0.0725</td> <td>    0.030</td> <td>   -2.425</td> <td> 0.015</td> <td>   -0.131</td> <td>   -0.014</td>\n",
       "</tr>\n",
       "<tr>\n",
       "  <th>C(month)[T.5L]</th>     <td>   -0.1540</td> <td>    0.029</td> <td>   -5.270</td> <td> 0.000</td> <td>   -0.211</td> <td>   -0.097</td>\n",
       "</tr>\n",
       "<tr>\n",
       "  <th>C(month)[T.6L]</th>     <td>   -0.1402</td> <td>    0.029</td> <td>   -4.821</td> <td> 0.000</td> <td>   -0.197</td> <td>   -0.083</td>\n",
       "</tr>\n",
       "<tr>\n",
       "  <th>C(month)[T.7L]</th>     <td>   -0.1488</td> <td>    0.029</td> <td>   -5.174</td> <td> 0.000</td> <td>   -0.205</td> <td>   -0.092</td>\n",
       "</tr>\n",
       "<tr>\n",
       "  <th>C(month)[T.8L]</th>     <td>   -0.1612</td> <td>    0.029</td> <td>   -5.592</td> <td> 0.000</td> <td>   -0.218</td> <td>   -0.105</td>\n",
       "</tr>\n",
       "<tr>\n",
       "  <th>C(month)[T.9L]</th>     <td>   -0.1469</td> <td>    0.029</td> <td>   -5.056</td> <td> 0.000</td> <td>   -0.204</td> <td>   -0.090</td>\n",
       "</tr>\n",
       "<tr>\n",
       "  <th>C(month)[T.10L]</th>    <td>   -0.1045</td> <td>    0.029</td> <td>   -3.653</td> <td> 0.000</td> <td>   -0.161</td> <td>   -0.048</td>\n",
       "</tr>\n",
       "<tr>\n",
       "  <th>C(month)[T.11L]</th>    <td>   -0.1815</td> <td>    0.030</td> <td>   -6.070</td> <td> 0.000</td> <td>   -0.240</td> <td>   -0.123</td>\n",
       "</tr>\n",
       "<tr>\n",
       "  <th>C(month)[T.12L]</th>    <td>   -0.1590</td> <td>    0.030</td> <td>   -5.356</td> <td> 0.000</td> <td>   -0.217</td> <td>   -0.101</td>\n",
       "</tr>\n",
       "<tr>\n",
       "  <th>C(hour)[T.1L]</th>      <td>    0.2994</td> <td>    0.038</td> <td>    7.900</td> <td> 0.000</td> <td>    0.225</td> <td>    0.374</td>\n",
       "</tr>\n",
       "<tr>\n",
       "  <th>C(hour)[T.2L]</th>      <td>    0.5539</td> <td>    0.039</td> <td>   14.085</td> <td> 0.000</td> <td>    0.477</td> <td>    0.631</td>\n",
       "</tr>\n",
       "<tr>\n",
       "  <th>C(hour)[T.3L]</th>      <td>    0.5905</td> <td>    0.042</td> <td>   14.077</td> <td> 0.000</td> <td>    0.508</td> <td>    0.673</td>\n",
       "</tr>\n",
       "<tr>\n",
       "  <th>C(hour)[T.4L]</th>      <td>    0.2891</td> <td>    0.049</td> <td>    5.950</td> <td> 0.000</td> <td>    0.194</td> <td>    0.384</td>\n",
       "</tr>\n",
       "<tr>\n",
       "  <th>C(hour)[T.5L]</th>      <td>   -0.1032</td> <td>    0.053</td> <td>   -1.931</td> <td> 0.053</td> <td>   -0.208</td> <td>    0.002</td>\n",
       "</tr>\n",
       "<tr>\n",
       "  <th>C(hour)[T.6L]</th>      <td>   -0.7102</td> <td>    0.055</td> <td>  -12.902</td> <td> 0.000</td> <td>   -0.818</td> <td>   -0.602</td>\n",
       "</tr>\n",
       "<tr>\n",
       "  <th>C(hour)[T.7L]</th>      <td>   -1.1778</td> <td>    0.053</td> <td>  -22.194</td> <td> 0.000</td> <td>   -1.282</td> <td>   -1.074</td>\n",
       "</tr>\n",
       "<tr>\n",
       "  <th>C(hour)[T.8L]</th>      <td>   -1.2482</td> <td>    0.046</td> <td>  -26.851</td> <td> 0.000</td> <td>   -1.339</td> <td>   -1.157</td>\n",
       "</tr>\n",
       "<tr>\n",
       "  <th>C(hour)[T.9L]</th>      <td>   -1.1944</td> <td>    0.045</td> <td>  -26.668</td> <td> 0.000</td> <td>   -1.282</td> <td>   -1.107</td>\n",
       "</tr>\n",
       "<tr>\n",
       "  <th>C(hour)[T.10L]</th>     <td>   -1.1065</td> <td>    0.044</td> <td>  -25.382</td> <td> 0.000</td> <td>   -1.192</td> <td>   -1.021</td>\n",
       "</tr>\n",
       "<tr>\n",
       "  <th>C(hour)[T.11L]</th>     <td>   -1.0295</td> <td>    0.042</td> <td>  -24.473</td> <td> 0.000</td> <td>   -1.112</td> <td>   -0.947</td>\n",
       "</tr>\n",
       "<tr>\n",
       "  <th>C(hour)[T.12L]</th>     <td>   -1.0961</td> <td>    0.040</td> <td>  -27.068</td> <td> 0.000</td> <td>   -1.176</td> <td>   -1.017</td>\n",
       "</tr>\n",
       "<tr>\n",
       "  <th>C(hour)[T.13L]</th>     <td>   -0.9097</td> <td>    0.040</td> <td>  -22.664</td> <td> 0.000</td> <td>   -0.988</td> <td>   -0.831</td>\n",
       "</tr>\n",
       "<tr>\n",
       "  <th>C(hour)[T.14L]</th>     <td>   -0.8559</td> <td>    0.039</td> <td>  -22.002</td> <td> 0.000</td> <td>   -0.932</td> <td>   -0.780</td>\n",
       "</tr>\n",
       "<tr>\n",
       "  <th>C(hour)[T.15L]</th>     <td>   -0.7541</td> <td>    0.037</td> <td>  -20.118</td> <td> 0.000</td> <td>   -0.828</td> <td>   -0.681</td>\n",
       "</tr>\n",
       "<tr>\n",
       "  <th>C(hour)[T.16L]</th>     <td>   -0.7139</td> <td>    0.037</td> <td>  -19.074</td> <td> 0.000</td> <td>   -0.787</td> <td>   -0.641</td>\n",
       "</tr>\n",
       "<tr>\n",
       "  <th>C(hour)[T.17L]</th>     <td>   -0.6750</td> <td>    0.037</td> <td>  -18.333</td> <td> 0.000</td> <td>   -0.747</td> <td>   -0.603</td>\n",
       "</tr>\n",
       "<tr>\n",
       "  <th>C(hour)[T.18L]</th>     <td>   -0.6508</td> <td>    0.036</td> <td>  -18.060</td> <td> 0.000</td> <td>   -0.721</td> <td>   -0.580</td>\n",
       "</tr>\n",
       "<tr>\n",
       "  <th>C(hour)[T.19L]</th>     <td>   -0.5191</td> <td>    0.036</td> <td>  -14.483</td> <td> 0.000</td> <td>   -0.589</td> <td>   -0.449</td>\n",
       "</tr>\n",
       "<tr>\n",
       "  <th>C(hour)[T.20L]</th>     <td>   -0.3803</td> <td>    0.035</td> <td>  -10.781</td> <td> 0.000</td> <td>   -0.449</td> <td>   -0.311</td>\n",
       "</tr>\n",
       "<tr>\n",
       "  <th>C(hour)[T.21L]</th>     <td>   -0.1664</td> <td>    0.035</td> <td>   -4.792</td> <td> 0.000</td> <td>   -0.235</td> <td>   -0.098</td>\n",
       "</tr>\n",
       "<tr>\n",
       "  <th>C(hour)[T.22L]</th>     <td>   -0.1016</td> <td>    0.035</td> <td>   -2.931</td> <td> 0.003</td> <td>   -0.170</td> <td>   -0.034</td>\n",
       "</tr>\n",
       "<tr>\n",
       "  <th>C(hour)[T.23L]</th>     <td>   -0.0126</td> <td>    0.035</td> <td>   -0.359</td> <td> 0.720</td> <td>   -0.082</td> <td>    0.056</td>\n",
       "</tr>\n",
       "<tr>\n",
       "  <th>C(DISTRICT)[T.2.0]</th> <td>   -0.7636</td> <td>    0.028</td> <td>  -27.314</td> <td> 0.000</td> <td>   -0.818</td> <td>   -0.709</td>\n",
       "</tr>\n",
       "<tr>\n",
       "  <th>C(DISTRICT)[T.3.0]</th> <td>   -0.0393</td> <td>    0.023</td> <td>   -1.691</td> <td> 0.091</td> <td>   -0.085</td> <td>    0.006</td>\n",
       "</tr>\n",
       "<tr>\n",
       "  <th>C(DISTRICT)[T.4.0]</th> <td>    0.3694</td> <td>    0.024</td> <td>   15.606</td> <td> 0.000</td> <td>    0.323</td> <td>    0.416</td>\n",
       "</tr>\n",
       "<tr>\n",
       "  <th>C(DISTRICT)[T.5.0]</th> <td>    0.4204</td> <td>    0.023</td> <td>   18.045</td> <td> 0.000</td> <td>    0.375</td> <td>    0.466</td>\n",
       "</tr>\n",
       "<tr>\n",
       "  <th>C(DISTRICT)[T.6.0]</th> <td>    0.9513</td> <td>    0.022</td> <td>   43.100</td> <td> 0.000</td> <td>    0.908</td> <td>    0.995</td>\n",
       "</tr>\n",
       "<tr>\n",
       "  <th>C(DISTRICT)[T.7.0]</th> <td>    1.1973</td> <td>    0.023</td> <td>   52.043</td> <td> 0.000</td> <td>    1.152</td> <td>    1.242</td>\n",
       "</tr>\n",
       "</table>"
      ],
      "text/plain": [
       "<class 'statsmodels.iolib.summary.Summary'>\n",
       "\"\"\"\n",
       "                           Logit Regression Results                           \n",
       "==============================================================================\n",
       "Dep. Variable:                      y   No. Observations:               216999\n",
       "Model:                          Logit   Df Residuals:                   216952\n",
       "Method:                           MLE   Df Model:                           46\n",
       "Date:                Mon, 24 Jun 2019   Pseudo R-squ.:                 0.08928\n",
       "Time:                        11:09:44   Log-Likelihood:                -89147.\n",
       "converged:                       True   LL-Null:                       -97886.\n",
       "                                        LLR p-value:                     0.000\n",
       "======================================================================================\n",
       "                         coef    std err          z      P>|z|      [0.025      0.975]\n",
       "--------------------------------------------------------------------------------------\n",
       "Intercept             -1.3191      0.040    -33.141      0.000      -1.397      -1.241\n",
       "C(weekday)[T.1L]       0.0110      0.023      0.476      0.634      -0.034       0.056\n",
       "C(weekday)[T.2L]       0.0178      0.023      0.770      0.441      -0.027       0.063\n",
       "C(weekday)[T.3L]      -0.0290      0.023     -1.247      0.212      -0.075       0.017\n",
       "C(weekday)[T.4L]      -0.0780      0.023     -3.435      0.001      -0.122      -0.033\n",
       "C(weekday)[T.5L]       0.0236      0.022      1.061      0.289      -0.020       0.067\n",
       "C(weekday)[T.6L]       0.0855      0.023      3.783      0.000       0.041       0.130\n",
       "C(month)[T.2L]        -0.0515      0.032     -1.621      0.105      -0.114       0.011\n",
       "C(month)[T.3L]        -0.1150      0.031     -3.722      0.000      -0.176      -0.054\n",
       "C(month)[T.4L]        -0.0725      0.030     -2.425      0.015      -0.131      -0.014\n",
       "C(month)[T.5L]        -0.1540      0.029     -5.270      0.000      -0.211      -0.097\n",
       "C(month)[T.6L]        -0.1402      0.029     -4.821      0.000      -0.197      -0.083\n",
       "C(month)[T.7L]        -0.1488      0.029     -5.174      0.000      -0.205      -0.092\n",
       "C(month)[T.8L]        -0.1612      0.029     -5.592      0.000      -0.218      -0.105\n",
       "C(month)[T.9L]        -0.1469      0.029     -5.056      0.000      -0.204      -0.090\n",
       "C(month)[T.10L]       -0.1045      0.029     -3.653      0.000      -0.161      -0.048\n",
       "C(month)[T.11L]       -0.1815      0.030     -6.070      0.000      -0.240      -0.123\n",
       "C(month)[T.12L]       -0.1590      0.030     -5.356      0.000      -0.217      -0.101\n",
       "C(hour)[T.1L]          0.2994      0.038      7.900      0.000       0.225       0.374\n",
       "C(hour)[T.2L]          0.5539      0.039     14.085      0.000       0.477       0.631\n",
       "C(hour)[T.3L]          0.5905      0.042     14.077      0.000       0.508       0.673\n",
       "C(hour)[T.4L]          0.2891      0.049      5.950      0.000       0.194       0.384\n",
       "C(hour)[T.5L]         -0.1032      0.053     -1.931      0.053      -0.208       0.002\n",
       "C(hour)[T.6L]         -0.7102      0.055    -12.902      0.000      -0.818      -0.602\n",
       "C(hour)[T.7L]         -1.1778      0.053    -22.194      0.000      -1.282      -1.074\n",
       "C(hour)[T.8L]         -1.2482      0.046    -26.851      0.000      -1.339      -1.157\n",
       "C(hour)[T.9L]         -1.1944      0.045    -26.668      0.000      -1.282      -1.107\n",
       "C(hour)[T.10L]        -1.1065      0.044    -25.382      0.000      -1.192      -1.021\n",
       "C(hour)[T.11L]        -1.0295      0.042    -24.473      0.000      -1.112      -0.947\n",
       "C(hour)[T.12L]        -1.0961      0.040    -27.068      0.000      -1.176      -1.017\n",
       "C(hour)[T.13L]        -0.9097      0.040    -22.664      0.000      -0.988      -0.831\n",
       "C(hour)[T.14L]        -0.8559      0.039    -22.002      0.000      -0.932      -0.780\n",
       "C(hour)[T.15L]        -0.7541      0.037    -20.118      0.000      -0.828      -0.681\n",
       "C(hour)[T.16L]        -0.7139      0.037    -19.074      0.000      -0.787      -0.641\n",
       "C(hour)[T.17L]        -0.6750      0.037    -18.333      0.000      -0.747      -0.603\n",
       "C(hour)[T.18L]        -0.6508      0.036    -18.060      0.000      -0.721      -0.580\n",
       "C(hour)[T.19L]        -0.5191      0.036    -14.483      0.000      -0.589      -0.449\n",
       "C(hour)[T.20L]        -0.3803      0.035    -10.781      0.000      -0.449      -0.311\n",
       "C(hour)[T.21L]        -0.1664      0.035     -4.792      0.000      -0.235      -0.098\n",
       "C(hour)[T.22L]        -0.1016      0.035     -2.931      0.003      -0.170      -0.034\n",
       "C(hour)[T.23L]        -0.0126      0.035     -0.359      0.720      -0.082       0.056\n",
       "C(DISTRICT)[T.2.0]    -0.7636      0.028    -27.314      0.000      -0.818      -0.709\n",
       "C(DISTRICT)[T.3.0]    -0.0393      0.023     -1.691      0.091      -0.085       0.006\n",
       "C(DISTRICT)[T.4.0]     0.3694      0.024     15.606      0.000       0.323       0.416\n",
       "C(DISTRICT)[T.5.0]     0.4204      0.023     18.045      0.000       0.375       0.466\n",
       "C(DISTRICT)[T.6.0]     0.9513      0.022     43.100      0.000       0.908       0.995\n",
       "C(DISTRICT)[T.7.0]     1.1973      0.023     52.043      0.000       1.152       1.242\n",
       "======================================================================================\n",
       "\"\"\""
      ]
     },
     "execution_count": 58,
     "metadata": {},
     "output_type": "execute_result"
    }
   ],
   "source": [
    "results = smf.logit(formula, data=train).fit()\n",
    "results.summary()"
   ]
  },
  {
   "cell_type": "code",
   "execution_count": 59,
   "metadata": {
    "collapsed": false
   },
   "outputs": [
    {
     "name": "stdout",
     "output_type": "stream",
     "text": [
      "Area under the ROC curve: 0.7270171879357404\n"
     ]
    }
   ],
   "source": [
    "pred = results.predict(test)\n",
    "score = roc_auc_score(test['y'], pred)\n",
    "print 'Area under the ROC curve: ' + str(score)"
   ]
  },
  {
   "cell_type": "markdown",
   "metadata": {},
   "source": [
    "An AUC above 0.5 means the model has predictive power."
   ]
  },
  {
   "cell_type": "markdown",
   "metadata": {},
   "source": [
    "I use the method of the Bonferroni correction to determine the factors which are correlated with the outcome in a statistically significant way despite the numerous factors being considered."
   ]
  },
  {
   "cell_type": "code",
   "execution_count": 60,
   "metadata": {
    "collapsed": false
   },
   "outputs": [
    {
     "data": {
      "text/html": [
       "<div>\n",
       "<style scoped>\n",
       "    .dataframe tbody tr th:only-of-type {\n",
       "        vertical-align: middle;\n",
       "    }\n",
       "\n",
       "    .dataframe tbody tr th {\n",
       "        vertical-align: top;\n",
       "    }\n",
       "\n",
       "    .dataframe thead th {\n",
       "        text-align: right;\n",
       "    }\n",
       "</style>\n",
       "<table border=\"1\" class=\"dataframe\">\n",
       "  <thead>\n",
       "    <tr style=\"text-align: right;\">\n",
       "      <th></th>\n",
       "      <th>params</th>\n",
       "      <th>pvalues</th>\n",
       "    </tr>\n",
       "  </thead>\n",
       "  <tbody>\n",
       "    <tr>\n",
       "      <th>Intercept</th>\n",
       "      <td>-1.319056</td>\n",
       "      <td>7.604109e-241</td>\n",
       "    </tr>\n",
       "    <tr>\n",
       "      <th>C(hour)[T.8L]</th>\n",
       "      <td>-1.248178</td>\n",
       "      <td>8.210587e-159</td>\n",
       "    </tr>\n",
       "    <tr>\n",
       "      <th>C(hour)[T.9L]</th>\n",
       "      <td>-1.194361</td>\n",
       "      <td>1.107656e-156</td>\n",
       "    </tr>\n",
       "    <tr>\n",
       "      <th>C(hour)[T.7L]</th>\n",
       "      <td>-1.177752</td>\n",
       "      <td>3.911336e-109</td>\n",
       "    </tr>\n",
       "    <tr>\n",
       "      <th>C(hour)[T.10L]</th>\n",
       "      <td>-1.106535</td>\n",
       "      <td>3.988430e-142</td>\n",
       "    </tr>\n",
       "    <tr>\n",
       "      <th>C(hour)[T.12L]</th>\n",
       "      <td>-1.096135</td>\n",
       "      <td>2.340052e-161</td>\n",
       "    </tr>\n",
       "    <tr>\n",
       "      <th>C(hour)[T.11L]</th>\n",
       "      <td>-1.029470</td>\n",
       "      <td>2.862272e-132</td>\n",
       "    </tr>\n",
       "    <tr>\n",
       "      <th>C(hour)[T.13L]</th>\n",
       "      <td>-0.909655</td>\n",
       "      <td>1.017057e-113</td>\n",
       "    </tr>\n",
       "    <tr>\n",
       "      <th>C(hour)[T.14L]</th>\n",
       "      <td>-0.855851</td>\n",
       "      <td>2.748108e-107</td>\n",
       "    </tr>\n",
       "    <tr>\n",
       "      <th>C(DISTRICT)[T.2.0]</th>\n",
       "      <td>-0.763581</td>\n",
       "      <td>2.880938e-164</td>\n",
       "    </tr>\n",
       "    <tr>\n",
       "      <th>C(hour)[T.15L]</th>\n",
       "      <td>-0.754124</td>\n",
       "      <td>5.090906e-90</td>\n",
       "    </tr>\n",
       "    <tr>\n",
       "      <th>C(hour)[T.16L]</th>\n",
       "      <td>-0.713898</td>\n",
       "      <td>4.179688e-81</td>\n",
       "    </tr>\n",
       "    <tr>\n",
       "      <th>C(hour)[T.6L]</th>\n",
       "      <td>-0.710154</td>\n",
       "      <td>4.358719e-38</td>\n",
       "    </tr>\n",
       "    <tr>\n",
       "      <th>C(hour)[T.17L]</th>\n",
       "      <td>-0.674999</td>\n",
       "      <td>4.536630e-75</td>\n",
       "    </tr>\n",
       "    <tr>\n",
       "      <th>C(hour)[T.18L]</th>\n",
       "      <td>-0.650785</td>\n",
       "      <td>6.630291e-73</td>\n",
       "    </tr>\n",
       "    <tr>\n",
       "      <th>C(hour)[T.19L]</th>\n",
       "      <td>-0.519101</td>\n",
       "      <td>1.562003e-47</td>\n",
       "    </tr>\n",
       "    <tr>\n",
       "      <th>C(hour)[T.20L]</th>\n",
       "      <td>-0.380251</td>\n",
       "      <td>4.227569e-27</td>\n",
       "    </tr>\n",
       "    <tr>\n",
       "      <th>C(month)[T.11L]</th>\n",
       "      <td>-0.181478</td>\n",
       "      <td>1.280764e-09</td>\n",
       "    </tr>\n",
       "    <tr>\n",
       "      <th>C(hour)[T.21L]</th>\n",
       "      <td>-0.166435</td>\n",
       "      <td>1.648866e-06</td>\n",
       "    </tr>\n",
       "    <tr>\n",
       "      <th>C(month)[T.8L]</th>\n",
       "      <td>-0.161202</td>\n",
       "      <td>2.248772e-08</td>\n",
       "    </tr>\n",
       "    <tr>\n",
       "      <th>C(month)[T.12L]</th>\n",
       "      <td>-0.158972</td>\n",
       "      <td>8.503779e-08</td>\n",
       "    </tr>\n",
       "    <tr>\n",
       "      <th>C(month)[T.5L]</th>\n",
       "      <td>-0.153954</td>\n",
       "      <td>1.365901e-07</td>\n",
       "    </tr>\n",
       "    <tr>\n",
       "      <th>C(month)[T.7L]</th>\n",
       "      <td>-0.148842</td>\n",
       "      <td>2.287001e-07</td>\n",
       "    </tr>\n",
       "    <tr>\n",
       "      <th>C(month)[T.9L]</th>\n",
       "      <td>-0.146883</td>\n",
       "      <td>4.275652e-07</td>\n",
       "    </tr>\n",
       "    <tr>\n",
       "      <th>C(month)[T.6L]</th>\n",
       "      <td>-0.140205</td>\n",
       "      <td>1.425517e-06</td>\n",
       "    </tr>\n",
       "    <tr>\n",
       "      <th>C(month)[T.3L]</th>\n",
       "      <td>-0.115034</td>\n",
       "      <td>1.974010e-04</td>\n",
       "    </tr>\n",
       "    <tr>\n",
       "      <th>C(month)[T.10L]</th>\n",
       "      <td>-0.104495</td>\n",
       "      <td>2.595435e-04</td>\n",
       "    </tr>\n",
       "    <tr>\n",
       "      <th>C(weekday)[T.4L]</th>\n",
       "      <td>-0.077983</td>\n",
       "      <td>5.934303e-04</td>\n",
       "    </tr>\n",
       "    <tr>\n",
       "      <th>C(weekday)[T.6L]</th>\n",
       "      <td>0.085459</td>\n",
       "      <td>1.550276e-04</td>\n",
       "    </tr>\n",
       "    <tr>\n",
       "      <th>C(hour)[T.4L]</th>\n",
       "      <td>0.289110</td>\n",
       "      <td>2.676912e-09</td>\n",
       "    </tr>\n",
       "    <tr>\n",
       "      <th>C(hour)[T.1L]</th>\n",
       "      <td>0.299448</td>\n",
       "      <td>2.781536e-15</td>\n",
       "    </tr>\n",
       "    <tr>\n",
       "      <th>C(DISTRICT)[T.4.0]</th>\n",
       "      <td>0.369436</td>\n",
       "      <td>6.604545e-55</td>\n",
       "    </tr>\n",
       "    <tr>\n",
       "      <th>C(DISTRICT)[T.5.0]</th>\n",
       "      <td>0.420402</td>\n",
       "      <td>8.585651e-73</td>\n",
       "    </tr>\n",
       "    <tr>\n",
       "      <th>C(hour)[T.2L]</th>\n",
       "      <td>0.553856</td>\n",
       "      <td>4.696438e-45</td>\n",
       "    </tr>\n",
       "    <tr>\n",
       "      <th>C(hour)[T.3L]</th>\n",
       "      <td>0.590541</td>\n",
       "      <td>5.275120e-45</td>\n",
       "    </tr>\n",
       "    <tr>\n",
       "      <th>C(DISTRICT)[T.6.0]</th>\n",
       "      <td>0.951255</td>\n",
       "      <td>0.000000e+00</td>\n",
       "    </tr>\n",
       "    <tr>\n",
       "      <th>C(DISTRICT)[T.7.0]</th>\n",
       "      <td>1.197340</td>\n",
       "      <td>0.000000e+00</td>\n",
       "    </tr>\n",
       "  </tbody>\n",
       "</table>\n",
       "</div>"
      ],
      "text/plain": [
       "                      params        pvalues\n",
       "Intercept          -1.319056  7.604109e-241\n",
       "C(hour)[T.8L]      -1.248178  8.210587e-159\n",
       "C(hour)[T.9L]      -1.194361  1.107656e-156\n",
       "C(hour)[T.7L]      -1.177752  3.911336e-109\n",
       "C(hour)[T.10L]     -1.106535  3.988430e-142\n",
       "C(hour)[T.12L]     -1.096135  2.340052e-161\n",
       "C(hour)[T.11L]     -1.029470  2.862272e-132\n",
       "C(hour)[T.13L]     -0.909655  1.017057e-113\n",
       "C(hour)[T.14L]     -0.855851  2.748108e-107\n",
       "C(DISTRICT)[T.2.0] -0.763581  2.880938e-164\n",
       "C(hour)[T.15L]     -0.754124   5.090906e-90\n",
       "C(hour)[T.16L]     -0.713898   4.179688e-81\n",
       "C(hour)[T.6L]      -0.710154   4.358719e-38\n",
       "C(hour)[T.17L]     -0.674999   4.536630e-75\n",
       "C(hour)[T.18L]     -0.650785   6.630291e-73\n",
       "C(hour)[T.19L]     -0.519101   1.562003e-47\n",
       "C(hour)[T.20L]     -0.380251   4.227569e-27\n",
       "C(month)[T.11L]    -0.181478   1.280764e-09\n",
       "C(hour)[T.21L]     -0.166435   1.648866e-06\n",
       "C(month)[T.8L]     -0.161202   2.248772e-08\n",
       "C(month)[T.12L]    -0.158972   8.503779e-08\n",
       "C(month)[T.5L]     -0.153954   1.365901e-07\n",
       "C(month)[T.7L]     -0.148842   2.287001e-07\n",
       "C(month)[T.9L]     -0.146883   4.275652e-07\n",
       "C(month)[T.6L]     -0.140205   1.425517e-06\n",
       "C(month)[T.3L]     -0.115034   1.974010e-04\n",
       "C(month)[T.10L]    -0.104495   2.595435e-04\n",
       "C(weekday)[T.4L]   -0.077983   5.934303e-04\n",
       "C(weekday)[T.6L]    0.085459   1.550276e-04\n",
       "C(hour)[T.4L]       0.289110   2.676912e-09\n",
       "C(hour)[T.1L]       0.299448   2.781536e-15\n",
       "C(DISTRICT)[T.4.0]  0.369436   6.604545e-55\n",
       "C(DISTRICT)[T.5.0]  0.420402   8.585651e-73\n",
       "C(hour)[T.2L]       0.553856   4.696438e-45\n",
       "C(hour)[T.3L]       0.590541   5.275120e-45\n",
       "C(DISTRICT)[T.6.0]  0.951255   0.000000e+00\n",
       "C(DISTRICT)[T.7.0]  1.197340   0.000000e+00"
      ]
     },
     "execution_count": 60,
     "metadata": {},
     "output_type": "execute_result"
    }
   ],
   "source": [
    "params = pd.DataFrame([results.params, results.pvalues], index = ['params','pvalues'])\n",
    "params = params.transpose()\n",
    "params[params.pvalues < 0.05/(6+11+23+6)].sort_values(by = ['params'])"
   ]
  },
  {
   "cell_type": "markdown",
   "metadata": {
    "collapsed": true
   },
   "source": [
    "Generally, morning and daytime hours have low violent crime rates, as well as District 2. Very early hours, between 1 and 4 am tend to be related to more violent crimes, and Districts 6 and 7 tend to have relatively higher number of violent crimes."
   ]
  },
  {
   "cell_type": "markdown",
   "metadata": {},
   "source": [
    "# Conclusions"
   ]
  },
  {
   "cell_type": "markdown",
   "metadata": {},
   "source": [
    "If you want to prevent violent crimes, the Metropolitan Police Department may want to increase officers in the very early hours of the day, around 1-4am, as well as in Districts 4, 5, 6, and 7. The month does not affect the nature of the crime very much."
   ]
  }
 ],
 "metadata": {
  "kernelspec": {
   "display_name": "Python 2",
   "language": "python",
   "name": "python2"
  },
  "language_info": {
   "codemirror_mode": {
    "name": "ipython",
    "version": 2
   },
   "file_extension": ".py",
   "mimetype": "text/x-python",
   "name": "python",
   "nbconvert_exporter": "python",
   "pygments_lexer": "ipython2",
   "version": "2.7.13"
  }
 },
 "nbformat": 4,
 "nbformat_minor": 2
}
